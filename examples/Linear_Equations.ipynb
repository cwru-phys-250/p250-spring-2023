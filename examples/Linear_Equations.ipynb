{
 "cells": [
  {
   "cell_type": "markdown",
   "metadata": {},
   "source": [
    "# Systems of Linear Equations\n",
    "\n",
    "Here we will see various functions for solving and manipulating systems of linear equations."
   ]
  },
  {
   "cell_type": "markdown",
   "metadata": {},
   "source": [
    "## Initialization"
   ]
  },
  {
   "cell_type": "code",
   "execution_count": 1,
   "metadata": {},
   "outputs": [],
   "source": [
    "import numpy as np\n",
    "import scipy.linalg as la"
   ]
  },
  {
   "cell_type": "markdown",
   "metadata": {},
   "source": [
    "As we have seen, the main linear algebra routines are contained in `scipy.linalg`. Here we will focus on some of those from \"Basics\" and those related to the LU decomposition.\n",
    "\n",
    "We begin by reminding ourselves of what is available in `scipy.linalg`."
   ]
  },
  {
   "cell_type": "code",
   "execution_count": null,
   "metadata": {},
   "outputs": [],
   "source": [
    "la?"
   ]
  },
  {
   "cell_type": "markdown",
   "metadata": {},
   "source": [
    "As always we should also look at the documentation for any and all functions that interest us. Here we look at a few. In the prelab and lab we will explore the use of `solve_banded`."
   ]
  },
  {
   "cell_type": "code",
   "execution_count": null,
   "metadata": {},
   "outputs": [],
   "source": [
    "la.solve?"
   ]
  },
  {
   "cell_type": "code",
   "execution_count": null,
   "metadata": {},
   "outputs": [],
   "source": [
    "la.lu?"
   ]
  },
  {
   "cell_type": "code",
   "execution_count": null,
   "metadata": {},
   "outputs": [],
   "source": [
    "la.lu_factor?"
   ]
  },
  {
   "cell_type": "code",
   "execution_count": null,
   "metadata": {},
   "outputs": [],
   "source": [
    "la.lu_solve?"
   ]
  },
  {
   "cell_type": "markdown",
   "metadata": {},
   "source": [
    "Notice that there are a few functions related to the LU decomposition. We will learn why this is the case below."
   ]
  },
  {
   "cell_type": "markdown",
   "metadata": {},
   "source": [
    "## Sample system\n",
    "\n",
    "As a sample system we will consider the one studied in lecture,\n",
    "\\begin{align}\n",
    "10 x_1 - 7 x_2 + x_3 &= 8, \\\\\n",
    "-3 x_1 + 2 x_2 + 6 x_3 &= 4, \\\\\n",
    "5 x_1 - x_2 + 5 x_3 &= 6 .\n",
    "\\end{align}\n",
    "As we saw, we can write this in the form \n",
    "$$\\mathsf{A}\\vec x = \\vec b, $$\n",
    "where\n",
    "$$ \\mathsf{A} = \\left( \\begin{array}{rrr}\n",
    "10 & -7 & 1 \\\\\n",
    "-3 & 2 & 6 \\\\\n",
    "5 & -1 & 5\n",
    "\\end{array} \\right)\n",
    "\\quad\\mathrm{and}\\quad\n",
    "\\vec b = \\left( \\begin{array}{c} 8 \\\\ 4 \\\\ 6 \\end{array} \\right). $$\n",
    "\n",
    "We can create these as arrays using `np.array`. As noted last week, we force the result to be a floating point array, not an integer array, by making any one of the entries a floating point number. NumPy tries to use the \"simplest\" data type when it creates an array. There are a few ways to force the type it chooses, this is one way."
   ]
  },
  {
   "cell_type": "code",
   "execution_count": 2,
   "metadata": {},
   "outputs": [],
   "source": [
    "A = np.array([[10, -7, 1.], [-3, 2, 6], [5, -1, 5]])\n",
    "b = np.array([8., 4, 6])"
   ]
  },
  {
   "cell_type": "markdown",
   "metadata": {},
   "source": [
    "### Solving the System\n",
    "\n",
    "To solve this system we can, not surprisingly, use `solve`."
   ]
  },
  {
   "cell_type": "code",
   "execution_count": 3,
   "metadata": {},
   "outputs": [
    {
     "name": "stdout",
     "output_type": "stream",
     "text": [
      "[ 0. -1.  1.]\n"
     ]
    }
   ],
   "source": [
    "x = la.solve(A, b)\n",
    "print(x)"
   ]
  },
  {
   "cell_type": "markdown",
   "metadata": {},
   "source": [
    "#### Verifying the Solution\n",
    "\n",
    "To verify the solution we can directly evaluate $\\mathsf{A} \\vec x$ and compare it to $\\vec b$. Of course this only verifies that the `solve` function has worked correctly, it does not verify that we have entered $\\mathsf{A}$ and $\\vec b$ correctly! There are two steps, one is to actually perform the multiplication and the second is to compare the $\\mathsf{A} \\vec x$ to $\\vec b$.\n",
    "\n",
    "Again, we learned about this last week. We know we need to use `np.dot()` for the multiplication."
   ]
  },
  {
   "cell_type": "code",
   "execution_count": 4,
   "metadata": {},
   "outputs": [
    {
     "name": "stdout",
     "output_type": "stream",
     "text": [
      "np.dot(A, x) = [8. 4. 6.]\n"
     ]
    }
   ],
   "source": [
    "print('np.dot(A, x) =', np.dot(A, x))"
   ]
  },
  {
   "cell_type": "markdown",
   "metadata": {},
   "source": [
    "Notice that this returns a vector at that vector should be $\\vec b$. We can include a test to verify this."
   ]
  },
  {
   "cell_type": "code",
   "execution_count": 5,
   "metadata": {},
   "outputs": [],
   "source": [
    "assert(np.allclose(np.dot(A, x), b))"
   ]
  },
  {
   "cell_type": "markdown",
   "metadata": {},
   "source": [
    "##### Infix Operator '`@'`\n",
    "\n",
    "The terser way of doing these multiplications is to use the operator `@` introduced in Python 3.5. This is *only* available in Python 3.5 (and later). This addition could not be back ported via the `__future__` module we mentioned in the class before spring break. Thus, using it will mean writing code that only works in a specific version of Python. If you are interested in details/rationale see [PEP 456](https://www.python.org/dev/peps/pep-0465/).\n",
    "\n",
    "Should you use it? It is up to you. Older versions of Python continue to exist, though they are deprecated and these days we should always be using versions newer than at least Python 3.5. (For example, NumPy version 1.19 requires at least Python 3.6.) As far as this course is concerned, whether you should use the `@` operator or the `np.dot` function will be left up to you. In new code I almost always use `@` these days.\n",
    "\n",
    "To verify it works we do a test. Notice it gives the same result as `np.dot`."
   ]
  },
  {
   "cell_type": "code",
   "execution_count": 6,
   "metadata": {},
   "outputs": [
    {
     "name": "stdout",
     "output_type": "stream",
     "text": [
      "A @ x = [8. 4. 6.]\n"
     ]
    }
   ],
   "source": [
    "print('A @ x =', A @ x)"
   ]
  },
  {
   "cell_type": "markdown",
   "metadata": {},
   "source": [
    "### Factoring the System\n",
    "\n",
    "As discussed in the lecture, the work required to solve the system of equations mostly involves manipulating the matrix, $\\mathsf{A}$, and then performing the same manipulations on the right hand side of the equations, $\\vec b$. We could instead have many right hand sides (a two dimensional array with multiple columns, one for each set of values for which we want to find a solution). This is handled by `solve`. Alternatively, we can decompose $\\mathsf{A}$ into pieces that encode the required manipulations using the LU decomposition. The decomposition only needs to be performed once, it can then be applied whenever needed. Finally, we saw that for numerical stability we should also pivot the matrix. LU decomposition with pivoting is provided by `scipy.linalg.lu`."
   ]
  },
  {
   "cell_type": "code",
   "execution_count": 7,
   "metadata": {},
   "outputs": [
    {
     "name": "stdout",
     "output_type": "stream",
     "text": [
      "Permutation matrix:\n",
      " [[1. 0. 0.]\n",
      " [0. 0. 1.]\n",
      " [0. 1. 0.]]\n",
      "Lower triangular matrix:\n",
      " [[ 1.    0.    0.  ]\n",
      " [ 0.5   1.    0.  ]\n",
      " [-0.3  -0.04  1.  ]]\n",
      "Upper triangular matrix:\n",
      " [[10.   -7.    1.  ]\n",
      " [ 0.    2.5   4.5 ]\n",
      " [ 0.    0.    6.48]]\n"
     ]
    }
   ],
   "source": [
    "(P, L, U) = la.lu(A)\n",
    "print(\"Permutation matrix:\\n\", P)\n",
    "print(\"Lower triangular matrix:\\n\", L)\n",
    "print(\"Upper triangular matrix:\\n\", U)\n",
    "# Verify that this is the decomposition of A\n",
    "assert(np.allclose(P @ L @ U, A))"
   ]
  },
  {
   "cell_type": "markdown",
   "metadata": {},
   "source": [
    "By default we are given the permutation matrix and the lower and upper triangular matrices that, when recombined, produce $\\mathsf{A}$. This function is good when we want to see the decomposition in a form easy for us to read. If we want to use the decomposition for solving systems of linear equations the information could be stored in a more efficient form for the computer's use.\n",
    "\n",
    "Note that our choice of using generic arrays for storing matrices comes at a cost when we want to multiply many of them together. Here we have used the `@` operator. If we had used `np.dot` instead we would have needed to use nested calls to `np.dot`. This can be slightly streamlined, but remains tedious.\n",
    "\n",
    "Getting back to solving a system of equations, we can use `scipy.linalg.lu_factor` to decompose in a form more useful for the computer."
   ]
  },
  {
   "cell_type": "code",
   "execution_count": 8,
   "metadata": {},
   "outputs": [
    {
     "data": {
      "text/plain": [
       "(array([[10.  , -7.  ,  1.  ],\n",
       "        [ 0.5 ,  2.5 ,  4.5 ],\n",
       "        [-0.3 , -0.04,  6.48]]),\n",
       " array([0, 2, 2], dtype=int32))"
      ]
     },
     "execution_count": 8,
     "metadata": {},
     "output_type": "execute_result"
    }
   ],
   "source": [
    "la.lu_factor(A)"
   ]
  },
  {
   "cell_type": "markdown",
   "metadata": {},
   "source": [
    "Here L and U have been merged into a single matrix (notice in the form above that L had ones along the diagonal so they do not need to be stored) and the permutations are represented by a one dimensional array instead a matrix. This is much more memory efficient, but is also much harder for us to read. Even so, this can be used in `scipy.linalg.lu_solve`. In fact, the `tuple` returned here is exactly what needs to be provided as the first argument to that function."
   ]
  },
  {
   "cell_type": "code",
   "execution_count": 9,
   "metadata": {},
   "outputs": [
    {
     "name": "stdout",
     "output_type": "stream",
     "text": [
      "LU solution: [ 0. -1.  1.]\n"
     ]
    }
   ],
   "source": [
    "lufactors = la.lu_factor(A)\n",
    "xlu = la.lu_solve(lufactors, b)\n",
    "print(\"LU solution:\", xlu)\n",
    "# Verify that the solution is consistent with the previous one.\n",
    "assert(np.allclose(xlu, x))"
   ]
  },
  {
   "cell_type": "markdown",
   "metadata": {},
   "source": [
    "## Slightly Larger System\n",
    "\n",
    "As an example of a slightly larger system and one where we want to find solutions with different right hand sides consider\n",
    "$$\\mathsf{A} = \\left( \\begin{array}{rrrr}\n",
    "2 & -3 & 1 & 3 \\\\\n",
    "1 & 4 & -3 & -3 \\\\\n",
    "5 & 3 & -1 & -1 \\\\\n",
    "3 & -6 & -3 & 1\n",
    "\\end{array} \\right),\n",
    "\\quad\n",
    "\\vec b_1 = \\left( \\begin{array}{r}\n",
    "-4 \\\\ 1 \\\\ 8 \\\\ -5\n",
    "\\end{array} \\right),\n",
    "\\quad\n",
    "\\vec b_2 = \\left( \\begin{array}{r}\n",
    "-10 \\\\ 0 \\\\ -3 \\\\ -24\n",
    "\\end{array} \\right).\n",
    "$$"
   ]
  },
  {
   "cell_type": "code",
   "execution_count": 10,
   "metadata": {},
   "outputs": [],
   "source": [
    "A = np.array([[2., -3, 1, 3], [1, 4, -3, -3], [5, 3, -1, -1], [3, -6, -3, 1]])\n",
    "b1 = np.array([-4., 1, 8, -5])\n",
    "b2 = np.array([-10., 0, -3, -24])"
   ]
  },
  {
   "cell_type": "markdown",
   "metadata": {},
   "source": [
    "We can solve this directly using `solve`."
   ]
  },
  {
   "cell_type": "code",
   "execution_count": 11,
   "metadata": {},
   "outputs": [
    {
     "name": "stdout",
     "output_type": "stream",
     "text": [
      "Solution for b1: [ 2. -1.  4. -5.]\n",
      "Solution for b2: [-1.  1.  4. -3.]\n"
     ]
    }
   ],
   "source": [
    "print(\"Solution for b1:\", la.solve(A, b1))\n",
    "print(\"Solution for b2:\", la.solve(A, b2))"
   ]
  },
  {
   "cell_type": "markdown",
   "metadata": {},
   "source": [
    "Alternatively we can use an LU decomposition. Notice the decomposition is only performed once."
   ]
  },
  {
   "cell_type": "code",
   "execution_count": 12,
   "metadata": {},
   "outputs": [
    {
     "name": "stdout",
     "output_type": "stream",
     "text": [
      "LU solution for b1: [ 2. -1.  4. -5.]\n",
      "LU solution for b2: [-1.  1.  4. -3.]\n"
     ]
    }
   ],
   "source": [
    "lufactors = la.lu_factor(A)\n",
    "print(\"LU solution for b1:\", la.lu_solve(lufactors, b1))\n",
    "print(\"LU solution for b2:\", la.lu_solve(lufactors, b2))"
   ]
  },
  {
   "cell_type": "markdown",
   "metadata": {},
   "source": [
    "Finally, we could have solved for both right hand sides at once. To do this we need to combine `b1` and `b2`. We do this below. In general this is the **wrong approach**. In practice we should have created `b` as a two dimensional array and used array slicing to pull out the pieces we needed. It is **almost never** a good idea to proceed as we have done here, that is, to create the individual pieces and then recombine them. Even so, there are a few functions that allow us to combine arrays, you will have to discover them for yourself if you find a valid need for them."
   ]
  },
  {
   "cell_type": "code",
   "execution_count": 13,
   "metadata": {},
   "outputs": [
    {
     "data": {
      "text/plain": [
       "array([[ -4.,   1.,   8.,  -5.],\n",
       "       [-10.,   0.,  -3., -24.]])"
      ]
     },
     "execution_count": 13,
     "metadata": {},
     "output_type": "execute_result"
    }
   ],
   "source": [
    "b = np.vstack((b1, b2))\n",
    "b"
   ]
  },
  {
   "cell_type": "markdown",
   "metadata": {},
   "source": [
    "If we try to use this with `solve` it fails!"
   ]
  },
  {
   "cell_type": "code",
   "execution_count": 14,
   "metadata": {},
   "outputs": [
    {
     "ename": "ValueError",
     "evalue": "Input b has to have same number of rows as input a",
     "output_type": "error",
     "traceback": [
      "\u001b[0;31m---------------------------------------------------------------------------\u001b[0m",
      "\u001b[0;31mValueError\u001b[0m                                Traceback (most recent call last)",
      "Cell \u001b[0;32mIn[14], line 1\u001b[0m\n\u001b[0;32m----> 1\u001b[0m \u001b[43mla\u001b[49m\u001b[38;5;241;43m.\u001b[39;49m\u001b[43msolve\u001b[49m\u001b[43m(\u001b[49m\u001b[43mA\u001b[49m\u001b[43m,\u001b[49m\u001b[43m \u001b[49m\u001b[43mb\u001b[49m\u001b[43m)\u001b[49m\n",
      "File \u001b[0;32m~/opt/anaconda/envs/p250/lib/python3.10/site-packages/scipy/linalg/_basic.py:156\u001b[0m, in \u001b[0;36msolve\u001b[0;34m(a, b, sym_pos, lower, overwrite_a, overwrite_b, check_finite, assume_a, transposed)\u001b[0m\n\u001b[1;32m    153\u001b[0m \u001b[38;5;28;01mif\u001b[39;00m n \u001b[38;5;241m!=\u001b[39m b1\u001b[38;5;241m.\u001b[39mshape[\u001b[38;5;241m0\u001b[39m]:\n\u001b[1;32m    154\u001b[0m     \u001b[38;5;66;03m# Last chance to catch 1x1 scalar a and 1-D b arrays\u001b[39;00m\n\u001b[1;32m    155\u001b[0m     \u001b[38;5;28;01mif\u001b[39;00m \u001b[38;5;129;01mnot\u001b[39;00m (n \u001b[38;5;241m==\u001b[39m \u001b[38;5;241m1\u001b[39m \u001b[38;5;129;01mand\u001b[39;00m b1\u001b[38;5;241m.\u001b[39msize \u001b[38;5;241m!=\u001b[39m \u001b[38;5;241m0\u001b[39m):\n\u001b[0;32m--> 156\u001b[0m         \u001b[38;5;28;01mraise\u001b[39;00m \u001b[38;5;167;01mValueError\u001b[39;00m(\u001b[38;5;124m'\u001b[39m\u001b[38;5;124mInput b has to have same number of rows as \u001b[39m\u001b[38;5;124m'\u001b[39m\n\u001b[1;32m    157\u001b[0m                          \u001b[38;5;124m'\u001b[39m\u001b[38;5;124minput a\u001b[39m\u001b[38;5;124m'\u001b[39m)\n\u001b[1;32m    159\u001b[0m \u001b[38;5;66;03m# accommodate empty arrays\u001b[39;00m\n\u001b[1;32m    160\u001b[0m \u001b[38;5;28;01mif\u001b[39;00m b1\u001b[38;5;241m.\u001b[39msize \u001b[38;5;241m==\u001b[39m \u001b[38;5;241m0\u001b[39m:\n",
      "\u001b[0;31mValueError\u001b[0m: Input b has to have same number of rows as input a"
     ]
    }
   ],
   "source": [
    "la.solve(A, b)"
   ]
  },
  {
   "cell_type": "markdown",
   "metadata": {},
   "source": [
    "We get a `ValueError` and even told that `b` should have the same number of *rows* as `A`, not the same number of columns. This is easy to fix, just take the transpose of `b` using the shorthand we saw last week and shown again below."
   ]
  },
  {
   "cell_type": "code",
   "execution_count": 15,
   "metadata": {},
   "outputs": [
    {
     "name": "stdout",
     "output_type": "stream",
     "text": [
      "Original b:\n",
      " [[ -4.   1.   8.  -5.]\n",
      " [-10.   0.  -3. -24.]]\n",
      "Transpose of b:\n",
      " [[ -4. -10.]\n",
      " [  1.   0.]\n",
      " [  8.  -3.]\n",
      " [ -5. -24.]]\n"
     ]
    }
   ],
   "source": [
    "print(\"Original b:\\n\", b)\n",
    "print(\"Transpose of b:\\n\", b.T)"
   ]
  },
  {
   "cell_type": "markdown",
   "metadata": {},
   "source": [
    "With this we find:"
   ]
  },
  {
   "cell_type": "code",
   "execution_count": 16,
   "metadata": {},
   "outputs": [
    {
     "name": "stdout",
     "output_type": "stream",
     "text": [
      "scipy.linalg.solve:\n",
      " [[ 2. -1.]\n",
      " [-1.  1.]\n",
      " [ 4.  4.]\n",
      " [-5. -3.]]\n",
      "scipy.linalg.lu_solve:\n",
      " [[ 2. -1.]\n",
      " [-1.  1.]\n",
      " [ 4.  4.]\n",
      " [-5. -3.]]\n"
     ]
    }
   ],
   "source": [
    "print(\"scipy.linalg.solve:\\n\", la.solve(A, b.T))\n",
    "print(\"scipy.linalg.lu_solve:\\n\", la.lu_solve(lufactors, b.T))"
   ]
  },
  {
   "cell_type": "markdown",
   "metadata": {},
   "source": [
    "Each *column* of the result is the solution for each *column* in the array `b`."
   ]
  },
  {
   "cell_type": "markdown",
   "metadata": {},
   "source": [
    "## Timing\n",
    "\n",
    "Many times throughout the semester we have stated that certain things are faster or slower than others, we have done so in this example! Rather than just making such statements, we can test them. In the notebook, as we have seen, this is easy using the `%timeit` magic for a single line, or the `%%timeit` magic for a full cell."
   ]
  },
  {
   "cell_type": "code",
   "execution_count": null,
   "metadata": {},
   "outputs": [],
   "source": [
    "%timeit?"
   ]
  },
  {
   "cell_type": "code",
   "execution_count": 17,
   "metadata": {},
   "outputs": [
    {
     "name": "stdout",
     "output_type": "stream",
     "text": [
      "solve\n",
      "21.8 µs ± 649 ns per loop (mean ± std. dev. of 7 runs, 10,000 loops each)\n",
      "lu_solve\n",
      "5.6 µs ± 165 ns per loop (mean ± std. dev. of 7 runs, 100,000 loops each)\n"
     ]
    }
   ],
   "source": [
    "print(\"solve\")\n",
    "%timeit la.solve(A, b.T)\n",
    "print(\"lu_solve\")\n",
    "%timeit la.lu_solve(lufactors, b.T)"
   ]
  },
  {
   "cell_type": "code",
   "execution_count": 18,
   "metadata": {},
   "outputs": [
    {
     "name": "stdout",
     "output_type": "stream",
     "text": [
      "10.8 µs ± 258 ns per loop (mean ± std. dev. of 7 runs, 100,000 loops each)\n"
     ]
    }
   ],
   "source": [
    "%%timeit\n",
    "# A variation where we include redoing the LU factorization\n",
    "lufactors = la.lu_factor(A)\n",
    "la.lu_solve(lufactors, b.T)"
   ]
  },
  {
   "cell_type": "code",
   "execution_count": null,
   "metadata": {},
   "outputs": [],
   "source": []
  }
 ],
 "metadata": {
  "anaconda-cloud": {},
  "kernelspec": {
   "display_name": "Python 3 (ipykernel)",
   "language": "python",
   "name": "python3"
  },
  "language_info": {
   "codemirror_mode": {
    "name": "ipython",
    "version": 3
   },
   "file_extension": ".py",
   "mimetype": "text/x-python",
   "name": "python",
   "nbconvert_exporter": "python",
   "pygments_lexer": "ipython3",
   "version": "3.10.9"
  }
 },
 "nbformat": 4,
 "nbformat_minor": 4
}
