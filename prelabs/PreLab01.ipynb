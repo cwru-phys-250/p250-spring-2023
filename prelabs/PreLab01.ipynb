{
 "cells": [
  {
   "cell_type": "markdown",
   "metadata": {},
   "source": [
    "# PreLab 01 : Introduction and Root Finding"
   ]
  },
  {
   "cell_type": "markdown",
   "metadata": {},
   "source": [
    "#### Objectives\n",
    "\n",
    "The prelabs are meant to introduce new ideas and get us thinking about the upcoming lab *before* we show up to class.  This is individual work but you are free to and encouraged to work on it with others.  This prelab is an introduction to some basic programming concepts.  We will also begin work on root finding.\n",
    "\n",
    "The prelabs are more like scratch work.  You are not expected to be as careful as with the labs.  The final prelab notebook will not be held to the same level of completeness as we require for labs.  Even if you get stuck/confused on things you should put in effort to try to understand the important points, and then move on to other parts of the prelab.  If you cannot complete a portion of the prelab then you should say what you have done, what is confusing, *etc.*  In other words, give some indication of how far you got.  This can be done by describing in words what you are thinking."
   ]
  },
  {
   "cell_type": "markdown",
   "metadata": {},
   "source": [
    "## Getting Started\n",
    "\n",
    "We have already used the notebook a bit, but there is a lot to it and a lot of ways to use it.  Fortunately there are also a lot of ways to learn about using it.  We have discussed some of these: searching the web for information, within the Jupyter Lab interface itself there are a few places to look, and using the `Help` tab in the menu bar.  Yet another way to see what is available is through the `Command Palette` which can be activated from the `View` menu.  This contains a list of all the commands that you can use in any context along with any keyboard shortcuts that are defined by default.  We will be using the notebook, so any commands associated with it will be of interest to us.\n",
    "\n",
    "It is worthwhile to get used to using keyboard shortcuts.  Though everything can be done by pointing and clicking your way through the interface, the keyboard shortcuts make things much faster and more pleasant.  It is good to start learning and using them early."
   ]
  },
  {
   "cell_type": "markdown",
   "metadata": {},
   "source": [
    "## Good Coding Practices\n",
    "\n",
    "As stated in Lab00, we should always explicitly load the modules we wish to use.  Further, we should do this is a way that does not \"pollute the namespace\".  We will always do that in this course!\n",
    "\n",
    "As one example of why this is important consider the cosine function.  In standard Python the cosine function is *not defined*.  Instead we need to load it from somewhere.  There are at least three places would could get it from:\n",
    "1. Python `math` module: This only operates on single numbers. In our work we will usually want our functions to work on arrays.\n",
    "2. The `numpy` module: This is the one we want to use and the one that gets loaded automatically in various circumstances.\n",
    "3. The `sympy` module: This would be the one we wanted if we were doing symbolic manipulations (sadly we will not be doing so this semester).\n",
    "\n",
    "If we were to load all the functions in each of these modules into the default name space and tried to just call the `cos` function which one do we get?  It will depend on which one was loaded *most recently*!  Since we do not want the behavior of our code to depend on the load order of modules or the state of our kernel we should explicitly load the module we want and use the function from that module.\n",
    "\n",
    "### Boiler Plate\n",
    "\n",
    "At the top of all of our documents we should load all the modules we want to use.  This will become standard practice in labs from now on.  One thing we will always want is the `numpy` module.  It can be loaded as\n",
    "> `import numpy as np`\n",
    "\n",
    "The `import` command loads a module for us.  It creates a namespace with the same name as the module.  Thus to access anything defined in the module we would need to prepend it with `numpy.` (notice there is a 'dot' after the `numpy`).  For example, to access the cosine function we would use `numpy.cos`.  This is a lot of typing.  Fortunately we can give it a shorter name (an alias), which is what the `as` phrase does for us.  Here we have renamed `numpy` to be `np` so that we can access the cosine function as `np.cos`.\n",
    "\n",
    "Though we can name our modules anything we want when we import them, there are some standard conventions that have evolved over the years.  It is best to use the standard conventions whenever possible.  Calling the `numpy` module `np` is quite standard, you will find it in almost any modern example online and is what you should always use."
   ]
  },
  {
   "cell_type": "markdown",
   "metadata": {},
   "source": [
    "## Initialization\n",
    "\n",
    "Initialize your environment by importing all the required modules.  For now just import the `numpy` module a discussed above.  Below you will see there are other modules we need.  Those can be added here and the cell rerun, as needed."
   ]
  },
  {
   "cell_type": "code",
   "execution_count": null,
   "metadata": {
    "deletable": false,
    "nbgrader": {
     "cell_type": "code",
     "checksum": "b504187f7c69469cff3d657602b9d82c",
     "grade": true,
     "grade_id": "cell-952bd66c15faa8f9",
     "locked": false,
     "points": 0,
     "schema_version": 3,
     "solution": true
    }
   },
   "outputs": [],
   "source": [
    "# YOUR CODE HERE\n",
    "raise NotImplementedError()"
   ]
  },
  {
   "cell_type": "markdown",
   "metadata": {},
   "source": [
    "## Defining Functions\n",
    "\n",
    "Defining functions to perform calculations for variable inputs is an essential tool.  Here we will define a function to compute $x^a$ for arbitrary $x$ and $a$.  To begin we want our function to be created as\n",
    "\n",
    "    def mypow(x, a):\n",
    "\n",
    "Complete the definition of this function by filling in the `Code` cell below.\n",
    "\n",
    "Notes:\n",
    "- Exponentiation is performed using `**`.\n",
    "- Do not forget to `return` your answer from the function.\n",
    "- Remember that spaces matter, all lines of code that are part of a block must be indented to the same level.\n",
    "- As mentioned in Lab00, do not forget to remove the lines\n",
    "```\n",
    "# YOUR CODE HERE\n",
    "raise NotImplementedError()\n",
    "```"
   ]
  },
  {
   "cell_type": "code",
   "execution_count": null,
   "metadata": {
    "deletable": false,
    "nbgrader": {
     "cell_type": "code",
     "checksum": "4da453c7f6a90475751f5b3097ace04a",
     "grade": false,
     "grade_id": "cell-82fc2f147a35768e",
     "locked": false,
     "schema_version": 3,
     "solution": true
    }
   },
   "outputs": [],
   "source": [
    "def mypow(x, a):\n",
    "# YOUR CODE HERE\n",
    "raise NotImplementedError()"
   ]
  },
  {
   "cell_type": "code",
   "execution_count": null,
   "metadata": {
    "deletable": false,
    "editable": false,
    "nbgrader": {
     "cell_type": "code",
     "checksum": "9ed2f5a21a0099a38d3df3fc6e277895",
     "grade": true,
     "grade_id": "cell-3ce519e50dfce588",
     "locked": true,
     "points": 0.5,
     "schema_version": 3,
     "solution": false
    }
   },
   "outputs": [],
   "source": [
    "# Here is an example of how we can embed tests in our notebooks\n",
    "# that will give an error if they fail. We will say more about this\n",
    "# in the future. For now, we will just use the `assert` function from Python.\n",
    "assert(mypow(2,2) == 2**2)"
   ]
  },
  {
   "cell_type": "markdown",
   "metadata": {},
   "source": [
    "Now that it is defined you should test it.  Run your function and verify it correctly calculates $2^2$, $2^3$, $3^2$, and any other cases you want to try.\n",
    "(You should try multiple cases, but only need to leave one of them in the cell below.)"
   ]
  },
  {
   "cell_type": "code",
   "execution_count": null,
   "metadata": {
    "deletable": false,
    "nbgrader": {
     "cell_type": "code",
     "checksum": "91caf6b3f8a04f7f3977e617eec24dab",
     "grade": true,
     "grade_id": "cell-983cf959dadbf14c",
     "locked": false,
     "points": 0,
     "schema_version": 3,
     "solution": true
    }
   },
   "outputs": [],
   "source": [
    "# YOUR CODE HERE\n",
    "raise NotImplementedError()"
   ]
  },
  {
   "cell_type": "markdown",
   "metadata": {},
   "source": [
    "A function can have default values, that is, optional arguments that do not need to be specified when the function is called.  Suppose we *typically* want to calculate $x^2$.  In this case it would be tedious to constantly set $a$ to 2 every time we call `mypow`.  To avoid this, we can set a default value for $a$ when we define the function.  To do so below we modify the way we define the function.  Now we start with\n",
    "\n",
    "    def mypow(x, a=2):"
   ]
  },
  {
   "cell_type": "markdown",
   "metadata": {},
   "source": [
    "Redefine the `mypow` function using the default value for `a`.  Afterward add a new `Code` cell below the function definition and run a few tests.  You should run tests like `mypow(2)` and `mypow(2,3)`, *etc.* to see how they behave.\n",
    "\n",
    "Note: The code in the body of our function does **not change**.  Only how we create the function (the function signature) changes."
   ]
  },
  {
   "cell_type": "code",
   "execution_count": null,
   "metadata": {
    "deletable": false,
    "nbgrader": {
     "cell_type": "code",
     "checksum": "efff6cc43fc029a893a70a4d803ce91b",
     "grade": false,
     "grade_id": "cell-eaf0fb6269fd86b4",
     "locked": false,
     "schema_version": 3,
     "solution": true
    }
   },
   "outputs": [],
   "source": [
    "def mypow(x, a=2):\n",
    "# YOUR CODE HERE\n",
    "raise NotImplementedError()"
   ]
  },
  {
   "cell_type": "code",
   "execution_count": null,
   "metadata": {
    "deletable": false,
    "editable": false,
    "nbgrader": {
     "cell_type": "code",
     "checksum": "1ea55bf1be8465a7879adce3fa680678",
     "grade": true,
     "grade_id": "cell-ac9d37a722641848",
     "locked": true,
     "points": 0.5,
     "schema_version": 3,
     "solution": false
    }
   },
   "outputs": [],
   "source": [
    "# Another simple test. We should always test our code!\n",
    "assert(mypow(2) == 4)"
   ]
  },
  {
   "cell_type": "markdown",
   "metadata": {},
   "source": [
    "The function you wrote works for more than just numbers.  We can also pass an array to it and it will do the \"right thing\" with no extra work required by us!  Let $x$ be an array of 10 values from 0 to 2.  Create this array and pass it to `mypow`. You should find it returns an array of the squares of all the values you passed in."
   ]
  },
  {
   "cell_type": "code",
   "execution_count": null,
   "metadata": {
    "deletable": false,
    "nbgrader": {
     "cell_type": "code",
     "checksum": "6a87a796edb5fb3a693cfe5a6450581d",
     "grade": true,
     "grade_id": "cell-ad235a1862f39dc0",
     "locked": false,
     "points": 0.5,
     "schema_version": 3,
     "solution": true
    }
   },
   "outputs": [],
   "source": [
    "# YOUR CODE HERE\n",
    "raise NotImplementedError()"
   ]
  },
  {
   "cell_type": "markdown",
   "metadata": {},
   "source": [
    "This would also \"magically\" work if $x$ were a single number and $a$ were an array. (Feel free to test this yourself). Unfortunately, the function does not \"magically\" work if both $x$ and $a$ are arrays of *different lengths*.  (If they are the same length then the function would not produce an error.  Whether it produces something useful or not depends on your expectations!) For example, let $a$ be an array from 1 to 4 in steps of 1.  Using this $a$ and the $x$ array from the previous part try to run `mypow` and see what happens.  You should get an error."
   ]
  },
  {
   "cell_type": "code",
   "execution_count": null,
   "metadata": {
    "deletable": false,
    "nbgrader": {
     "cell_type": "code",
     "checksum": "dafa298a5d70badaaca32ff6bf161e1b",
     "grade": true,
     "grade_id": "cell-45d0932a18052dd5",
     "locked": false,
     "points": 0.5,
     "schema_version": 3,
     "solution": true
    }
   },
   "outputs": [],
   "source": [
    "# YOUR CODE HERE\n",
    "raise NotImplementedError()"
   ]
  },
  {
   "cell_type": "markdown",
   "metadata": {},
   "source": [
    "We can fix the problem encountered in the previous part but we will need to learn about broadcasting to do so.  We will postpone that for future consideration."
   ]
  },
  {
   "cell_type": "markdown",
   "metadata": {},
   "source": [
    "## Root Finding\n",
    "\n",
    "Many root finding algorithms are implemented for us in `scipy.optimize` along with many other algorithms we will not talk about (but are briefly discussed in the root finding example from class).  You should review this document!  We will focus on `bisect` and `brentq` (though you can try out others for fun).  I typically load this module using\n",
    "> `import scipy.optimize as opt`\n",
    "\n",
    "to give it a short, easy to type name.  Add the importing of `scipy.optimize` to your initialization section above."
   ]
  },
  {
   "cell_type": "markdown",
   "metadata": {},
   "source": [
    "To get some practice consider the two equations and intervals provided :\n",
    "\\begin{align} x = 2^{-x}, && \\mbox{root in}\\; \\hphantom{-}(0.1,1), \\\\\n",
    "\\mathrm{e}^{6x} + 3(\\ln 2)^2 \\mathrm{e}^{2x} - (\\ln 8)\\mathrm{e}^{4x} - (\\ln2)^3 = 0, && \\mbox{root in}\\; (-1, 0.2).\\end{align}\n",
    "\n",
    "We want to find the solutions to these equations to a tolerance of $10^{-14}$.  Provide code below for finding the solutions to these equations using both `bisect` and `brentq`. Your code should define the functions, find and print the roots, and also print the total number of iterations required for each function using each method.\n",
    "\n",
    "Notes: \n",
    "1. Most special functions are defined in `numpy`. This is true for the logarithm and the exponential functions which can be accessed via `np.log` and `np.exp`.\n",
    "2. Further, the `numpy` function `log(x)` returns the *natural logarithm*, not the logarithm base 10.  This is true for every math library of which I am aware.\n",
    "3. Though it is *usually* true that a more sophisticated method is faster than a simpler method, it is not always true.  This example shows that.  The second equation has some interesting behavior."
   ]
  },
  {
   "cell_type": "code",
   "execution_count": null,
   "metadata": {
    "deletable": false,
    "nbgrader": {
     "cell_type": "code",
     "checksum": "335b46d295b54007b01349a4ea023de6",
     "grade": true,
     "grade_id": "cell-ccff9eb16a851e4a",
     "locked": false,
     "points": 1,
     "schema_version": 3,
     "solution": true
    }
   },
   "outputs": [],
   "source": [
    "# YOUR CODE HERE\n",
    "raise NotImplementedError()"
   ]
  },
  {
   "cell_type": "markdown",
   "metadata": {},
   "source": [
    "## Plotting\n",
    "\n",
    "### Boiler Plate\n",
    "\n",
    "There are a few ways to create plots.  Here is an example we will use for now.  It should work for almost everything we need to do in this class.  Comments are included to give a broad overview of what each line does.  Remember that you can (and should) always lookup the actual functions and get full documentation on them!\n",
    "\n",
    "```python\n",
    "# Load the main plotting routines from matplotlib and give them the alias: plt\n",
    "import matplotlib.pyplot as plt\n",
    "# In older versions we would have to ensure that all plots show up in the \n",
    "# notebook by including the line\n",
    "# %matplotlib inline\n",
    "# This is now the default so need not be included.\n",
    "\n",
    "# Create a figure.\n",
    "fig = plt.figure()\n",
    "# Create an axis inside the figure.  An axis is what we normally think of as a plot.\n",
    "# It is where we will draw lines, histograms, put labels, etc.  There can be multiple\n",
    "# axes per figure.  As the function name suggests we can also think of them as subplots.\n",
    "# The syntax here is similar to that used in Matlab.  The \"111\" is short hand notation.\n",
    "# See the documentation for details.  There are other ways of producing axes, but this\n",
    "# is good enough for most basic uses.\n",
    "ax = fig.add_subplot(111)\n",
    "\n",
    "# Start plotting ....  We can do everything we want now using the axis, called ax,\n",
    "# that we just created.  We can plot using ax.plot, etc.  Setting labels and the title\n",
    "# are also similar though we typically need to prepend them with set_, for example\n",
    "# ax.set_xlabel.\n",
    "```\n",
    "\n",
    "The importing of `matplotlib.pyplot` should also be part of your initialization.  Add this to your initialization section near the top of the notebook."
   ]
  },
  {
   "cell_type": "markdown",
   "metadata": {},
   "source": [
    "## Practice\n",
    "\n",
    "To get some practice using the ideas from above create a plot of the cosine function from $0$ to $2\\pi$.  Include all the \"boiler plate\" needed.  Explicitly use functions and variables from the appropriate namespace.  (For example, where is $\\pi$ defined?  This is not normally defined in the Python global namespace.)  Your plot should follow the guidelines from Lab00.\n",
    "\n",
    "Note: This is a case where you should do your best to put everything together, but it is fine to not spend hours trying to get all the details correct.  There are also a lot of things that can be added to the figure.  In this case it is nice to draw a black, horizontal line at $y=0$.  Horizontal lines can be drawn using `axhline`.  It is also nice to set the limits on the $x$ axis to be only those plotted.  `matplotlib` does its best to guess a good set of limits, but it does not always guess correctly."
   ]
  },
  {
   "cell_type": "code",
   "execution_count": null,
   "metadata": {
    "deletable": false,
    "nbgrader": {
     "cell_type": "code",
     "checksum": "4071422803a8452cccca0efa2deb1954",
     "grade": true,
     "grade_id": "cell-314b771107d9fc25",
     "locked": false,
     "points": 1,
     "schema_version": 3,
     "solution": true
    }
   },
   "outputs": [],
   "source": [
    "# YOUR CODE HERE\n",
    "raise NotImplementedError()"
   ]
  },
  {
   "cell_type": "markdown",
   "metadata": {},
   "source": [
    "## Turning in the PreLab\n",
    "\n",
    "Turning in the prelabs is similar to turning in the labs.  Again they will be submitted via Canvas.  Again the **name of the file cannot change**.  For this prelab the uploaded file **must be named** `PreLab01.ipynb`.\n",
    "\n",
    "By submitting this prelab via Canvas you are affirming that it is your work.  As discussed in Lab00, if this is not true it is cheating and will be treated as a violation of academic integrity."
   ]
  }
 ],
 "metadata": {
  "anaconda-cloud": {},
  "authors": [
   {
    "name": "Craig J Copi",
    "semester": "Spring 2019"
   }
  ],
  "kernelspec": {
   "display_name": "Python 3 (ipykernel)",
   "language": "python",
   "name": "python3"
  },
  "language_info": {
   "codemirror_mode": {
    "name": "ipython",
    "version": 3
   },
   "file_extension": ".py",
   "mimetype": "text/x-python",
   "name": "python",
   "nbconvert_exporter": "python",
   "pygments_lexer": "ipython3",
   "version": "3.10.8"
  }
 },
 "nbformat": 4,
 "nbformat_minor": 4
}
