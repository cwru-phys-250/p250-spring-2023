{
 "cells": [
  {
   "cell_type": "markdown",
   "metadata": {},
   "source": [
    "# Pre Lab 06 : Problem Solving\n",
    "\n",
    "## Objectives\n",
    "\n",
    "The main objectives of this lab are as follows.\n",
    "\n",
    "- Add documentation to notebooks through the use of `Markdown` and LaTeX.\n",
    "- Writing tests using `assert`.\n",
    "- Get some practice in writing a complete notebook by analyzing, documenting, and solving a small problem."
   ]
  },
  {
   "cell_type": "markdown",
   "metadata": {},
   "source": [
    "## Initialization\n",
    "\n",
    "As always you should add initialization to the top of your notebook."
   ]
  },
  {
   "cell_type": "code",
   "execution_count": null,
   "metadata": {
    "deletable": false,
    "nbgrader": {
     "cell_type": "code",
     "checksum": "9a350e48fbfc62011a6e0825b26332dc",
     "grade": true,
     "grade_id": "cell-ecda389af0994d91",
     "locked": false,
     "points": 0,
     "schema_version": 3,
     "solution": true
    }
   },
   "outputs": [],
   "source": [
    "# YOUR CODE HERE\n",
    "raise NotImplementedError()"
   ]
  },
  {
   "cell_type": "markdown",
   "metadata": {},
   "source": [
    "## Documentation using LaTeX and `Markdown`\n",
    "\n",
    "A notebook is a complete document; it includes both documentation and code in a single file. Writing good, clear documentation is an important step in solving a problem. Here and in the lab we will get some practice in documenting our code. Rich, nicely formatted documentation is provided in the notebook through the use of LaTeX and `Markdown`. We will expand our knowledge of LaTeX and get an introduction to `Markdown` in this prelab."
   ]
  },
  {
   "cell_type": "markdown",
   "metadata": {},
   "source": [
    "### LaTeX\n",
    "\n",
    "Scientific work involves equations and as we have seen the best tool to typeset equations is LaTeX. The implementation of LaTeX used by the notebook is through MathJax and is **not** a complete LaTeX implementation. However, most of the important aspects of LaTeX have been implemented, though not every example you may find online will work.\n",
    "\n",
    "Technical writing follows most of the rules you have learned for writing papers in other classes. One issue you have may not have encountered is how to deal with mathematical expressions and equations. In general these should be treated just like all other parts of speech. They should flow nicely in your discourse and should be punctuated as any other part of speech. The examples, prelabs, labs, and homework should serve as examples of how to include equations in documentation.\n",
    "\n",
    "Here we will cover a few other aspects of LaTeX. In general, LaTeX commands are preceded by a backslash ('`\\`'). Many commands can be \"guessed\" by using this rule. Also recall that text that is to be typeset by LaTeX is surrounding by dollar characters (`$`). Finally, remember that any `Markdown` cell can be viewed by double clicking on the cell or hitting `Enter` while the cell is selected. This can be used to see how all the cells in this and other documents have been written to get the formatted text you see."
   ]
  },
  {
   "cell_type": "markdown",
   "metadata": {},
   "source": [
    "#### Greek Letters\n",
    "\n",
    "Most Greek letters can be accessed by typing out the letter name preceded by a backslash.  To get the capital Greek letters just capitalize the name. (This is true for all capitals that are different than their Roman versions. There is no special command for a capital $\\alpha$ since it is just give by $A$  The same is true for a number of other Greek letters.) As an example\n",
    " - `$\\gamma$` produces $\\gamma$,\n",
    " - `$\\Gamma$` produces $\\Gamma$.\n",
    "\n",
    "Try entering some other Greek letters."
   ]
  },
  {
   "cell_type": "markdown",
   "metadata": {
    "deletable": false,
    "nbgrader": {
     "cell_type": "markdown",
     "checksum": "689f3c885bb70a278004e21c4b8e0212",
     "grade": true,
     "grade_id": "cell-1eb7acab124e4f6a",
     "locked": false,
     "points": 0.25,
     "schema_version": 3,
     "solution": true
    }
   },
   "source": [
    "YOUR ANSWER HERE"
   ]
  },
  {
   "cell_type": "markdown",
   "metadata": {},
   "source": [
    "#### Some special functions\n",
    "\n",
    "Trigonometric and many other special function names can and should be preceded by a backslash to typeset them correctly. For example:\n",
    "\n",
    " - `$\\cos(\\theta)$` produces $\\cos(\\theta)$\n",
    "\n",
    "Similarly square roots can be typeset as\n",
    "\n",
    " - `$\\sqrt{\\pi^{3x}}$` which produces $\\sqrt{\\pi^{3x}}$\n",
    "\n",
    "Type out some trigonometric identity (or some identity that uses trig functions)."
   ]
  },
  {
   "cell_type": "markdown",
   "metadata": {
    "deletable": false,
    "nbgrader": {
     "cell_type": "markdown",
     "checksum": "acc685dfeb0164fdeb4725decb851da2",
     "grade": true,
     "grade_id": "cell-57d520442de19b91",
     "locked": false,
     "points": 0.25,
     "schema_version": 3,
     "solution": true
    }
   },
   "source": [
    "YOUR ANSWER HERE"
   ]
  },
  {
   "cell_type": "markdown",
   "metadata": {},
   "source": [
    "#### Inlined versus Displayed equations\n",
    "\n",
    "So far we have been talking about inlined equations, that is, small equations that appear within a sentence. We can also set equations apart in what is called display style. This is useful for larger or more important equations. To write an equation in display style we surround it by double dollar characters (`$$`) instead of single ones.  This is particularly good when we have fractions, integrals, and sums. We will see some examples below."
   ]
  },
  {
   "cell_type": "markdown",
   "metadata": {},
   "source": [
    "#### Sums and Integrals\n",
    "\n",
    "Some operators have limits, such as sums and integrals. These are entered just like we did for subscripts (for the lower limit) and superscripts (for the upper limit) before. For example, the sum we saw in a previous prelab can be written as \n",
    "\n",
    "- `$\\sum_{j=1}^{N} j = \\frac{N(N+1)}{2}$` which produces $\\sum_{j=1}^{N} j = \\frac{N(N+1)}{2}$ when inlined, or as\n",
    "- `$$\\sum_{j=1}^{N} j = \\frac{N(N+1)}{2}$$` which produces\n",
    "$$\\sum_{j=1}^{N} j = \\frac{N(N+1)}{2}$$\n",
    "when shown in display style."
   ]
  },
  {
   "cell_type": "markdown",
   "metadata": {},
   "source": [
    "#### Autoscaling Delimiters\n",
    "\n",
    "Equations use all types of delimiters to group expressions. We will consider parentheses, `()`, brackets `[]`, and braces `{}`. (Note that braces must be escaped by a backslash in LaTeX so the open brace would be entered as `\\{`). There are a few others that can be used but these are enough for now. If we have many nested delimiters or particularly large expressions inside such delimiters then using the normal sized versions would look bad. LaTeX will automatically scale delimiters when they are used with the `\\left` and `\\right` commands. Note that every `\\left` **must** have an accompanying `\\right`, though the delimiter following the `\\left` need not be the same as that following the `\\right`. As one example a part of an equation from Lab 2 can be written as\n",
    "\n",
    "- `$$ \\frac{\\tau}{2\\pi} \\left[ 2\\tan^{-1} \\left( \\sqrt{ \\frac{1-e}{1+e} } \\tan\\frac{\\theta}{2} \\right) \\right] $$` which produces\n",
    "$$ \\frac{\\tau}{2\\pi} \\left[ 2\\tan^{-1} \\left( \\sqrt{ \\frac{1-e}{1+e}} \\tan\\frac{\\theta}{2} \\right) \\right] $$"
   ]
  },
  {
   "cell_type": "markdown",
   "metadata": {},
   "source": [
    "#### And Much, Much More\n",
    "\n",
    "There is much, much more that can be done. It is again recommended that you look through the notebooks written for this course to see other examples. For example, in these documents you will see how to write a system of equations using `\\begin{align} ... \\end{align}`. The general format is\n",
    "```\n",
    "\\begin{align}\n",
    "  LHS1 &= RHS1 \\\\\n",
    "  LHS2 &= RHS2 \\\\\n",
    "  LHS3 &= RHS3\n",
    "\\end{align}\n",
    "```\n",
    "(notice how all but the last line is ended by `\\\\`). The equations will be aligned on the location of the `&`. You will have an opportunity to use this below and in the lab.\n",
    "\n",
    "You will also see some technical details. For example, certain quantities really should be typeset in a Roman font instead of a math font. This is true for special numbers, such as $\\mathrm{e}$, and operators such as the derivative. You will see `\\mathrm{}` used in many cases because of this.\n",
    "\n",
    "Typeset some system of equations below using the `align` environment."
   ]
  },
  {
   "cell_type": "markdown",
   "metadata": {
    "deletable": false,
    "nbgrader": {
     "cell_type": "markdown",
     "checksum": "ad25b8c7bb1c6ba26b7dc669c313cd2c",
     "grade": true,
     "grade_id": "cell-975d3e4488989607",
     "locked": false,
     "points": 0.25,
     "schema_version": 3,
     "solution": true
    }
   },
   "source": [
    "YOUR ANSWER HERE"
   ]
  },
  {
   "cell_type": "markdown",
   "metadata": {},
   "source": [
    "Typeset your favorite equation."
   ]
  },
  {
   "cell_type": "markdown",
   "metadata": {
    "deletable": false,
    "nbgrader": {
     "cell_type": "markdown",
     "checksum": "303664ba9de5d2f0d56e9d456a5eb581",
     "grade": true,
     "grade_id": "cell-5d03be13bd6499a8",
     "locked": false,
     "points": 0.25,
     "schema_version": 3,
     "solution": true
    }
   },
   "source": [
    "YOUR ANSWER HERE"
   ]
  },
  {
   "cell_type": "markdown",
   "metadata": {},
   "source": [
    "#### LaTeX in Figures\n",
    "\n",
    "As a final detail note that you *can* use LaTeX in figures. It can appear in axis labels, the title, and in the legend. Unfortunately the backslash character is used to mean many things. In a string it is also used as an \"escape\" character. This means if you create two strings as\n",
    "\n",
    "```\n",
    "str1 = \"$\\cos(x)$\"\n",
    "str2 = \"$\\theta(x)$\"\n",
    "```\n",
    "and then print them using the print function (not just having the notebook show you the value of the variable, but actually use the print function) you will find something strange happens for `str2`. (Try it!) The reason for this is that `\\t` is interpreted as the `Tab` character.\n",
    "\n",
    "To get around this you can either \"escape the backslash\" by using two backslashes everywhere that one appears or by creating a raw string. I prefer the latter, so I would write\n",
    "```\n",
    "str2 = r\"$\\theta(x)$\"\n",
    "```\n",
    "Notice the `r` before the opening quote. You can use this when setting the axis labels, the title, or for labeling curves when using `plot`."
   ]
  },
  {
   "cell_type": "markdown",
   "metadata": {},
   "source": [
    "### Markdown\n",
    "\n",
    "The rest of the formatting in a `Markdown` cell is typeset using, not surprisingly, `Markdown`. `Markdown` is a relatively simple typesetting language that supports making text italic and bold, lists, tables, code blocks, links, and more. You can even use HTML (with styling) in a `Markdown` cell. If you have ever edited a wiki article the syntax will look quite familiar. `Markdown` references are available in many places on the web. Documentation is also available from the `Help` menu above which takes you to a page that describes the differences between `Markdown` as implemented in the notebook (which is \"github flavored\") and standard `Markdown`. There is also a link on that page to a more general introduction. Another source of information on `Markdown` can be found at http://daringfireball.net/projects/markdown/syntax.\n",
    "\n",
    "Again, there are many, many examples of using `Markdown` features in all the notebooks available for this course so we will not go through specific cases. You should look through the documentation and the available notebooks to familiarize yourself with its usage."
   ]
  },
  {
   "cell_type": "markdown",
   "metadata": {},
   "source": [
    "### Testing Results\n",
    "\n",
    "As we have seen a little of, it is always necessary to test our code. It is best to have physical test cases that can be explored analytically and independent of the written code. The code can then be run based on these test cases and the output compared to known results. Embedding test cases in your notebook is the best way to ensure that any future changes, no matter how trivial you think they are, do not introduce errors. Here we will explore embedding tests in a very simple way, using `assert`. There are other methods for doing this, including whole test suite creation mechanisms often used in larger projects. We will stick with the simplest method here.\n",
    "\n",
    "We have seen the use of `assert` earlier in the semester. It is a simple Python function that does nothing if the argument given to it is `True` and raises an exception if it is `False`. Here we will want to use it to compare two arrays of numerical values. For definiteness let us call the two arrays `arr1` and `arr2`.\n",
    "\n",
    "We already know that comparing two floating point numbers is non-trivial. Even testing just one element doing something like\n",
    "```\n",
    " arr1[0] == arr2[0]\n",
    "```\n",
    "is incorrect. We know that we should test if the two floating point numbers are close to each other, for some definition of \"close\". This is handled for us, and works with arrays too, using `np.allclose`. When you look up the documentation you will see that it includes both a relative and absolute tolerance for the comparison.\n",
    "\n",
    "We can couple this with `assert` to quickly verify that two arrays are equal.  A common idiom then is\n",
    "```\n",
    "assert(np.allclose(arr1, arr2))\n",
    "```\n",
    "This will \"do nothing\" when the two arrays are \"close\", but raise an exception when they are not."
   ]
  },
  {
   "cell_type": "markdown",
   "metadata": {},
   "source": [
    "Let us use these ideas. As we first saw in Lab00, we can construct arrays using `np.arange` and `np.linspace`. Construct two arrays each containing values from 0 to 1 (including 1) in steps of 0.1. Construct one using `np.arange` and the other using `np.linspace`. Finally, use `assert` to show that they are the same. (*Note:* It is useful to get this wrong at least once to see what happens when the assertion is not true!)"
   ]
  },
  {
   "cell_type": "code",
   "execution_count": null,
   "metadata": {
    "deletable": false,
    "nbgrader": {
     "cell_type": "code",
     "checksum": "b914b6960536a13ff44f1de87990c5df",
     "grade": true,
     "grade_id": "cell-64b87929fdd36875",
     "locked": false,
     "points": 0.5,
     "schema_version": 3,
     "solution": true
    }
   },
   "outputs": [],
   "source": [
    "# YOUR CODE HERE\n",
    "raise NotImplementedError()"
   ]
  },
  {
   "cell_type": "markdown",
   "metadata": {},
   "source": [
    "## Review of Major Ideas: A Practice Problem\n",
    "\n",
    "You will now put into practice much of what we have learned. Here you are given a problem you should be able to solve using the numerical methods covered in the course so far. It will be your job to figure out how to solve the problem, *clearly document* your solution, and implement it. You should use this part of the prelab as an opportunity to\n",
    "1. further develop familiarity with tools and methods from earlier labs,\n",
    "2. practice documenting your code, and \n",
    "3. develop your problem solving skills.\n",
    "\n",
    "That being said, you should not spend too much time in a rut; ask for help if you get stuck!"
   ]
  },
  {
   "cell_type": "markdown",
   "metadata": {},
   "source": [
    "The Korteweg–de Vries (KdV) equation approximately describes the amplitude of waves in certain one-dimensional systems, for example the height of water waves in a shallow trough. There is a class of static solutions to this equation where waves will hold their shape while the system is not disrupted. In the real world, the KdV equation includes time dependence - a more difficult (but also more interesting) problem. However, you have likely seem some examples of static wave configurations in flowing water, such as stationary ripples in a creek or stream. Extreme examples of this are even [surfable](https://www.youtube.com/watch?v=g6f8oLu8t8M)!\n",
    "\n",
    "The KdV equation for the height of a wave, $h(x)$, as a function of position along a trough, $x$, is given by\n",
    "$$ \\frac{\\mathrm{d}^3h(x)}{\\mathrm{d}x^3} + 6 h(x) \\frac{\\mathrm{d}h(x)}{\\mathrm{d}x} = 0. $$\n",
    "\n",
    "Your goals are as follows.\n",
    "\n",
    "1. Solve the differential equation in the range $x=0$ to $x=16$ subject to the initial conditions at $x=0$\n",
    "$$ h = 0.2, \\quad \\frac{\\mathrm{d}h}{\\mathrm{d}x} = 0, \\quad \\frac{\\mathrm{d}^2 h}{\\mathrm{d}x^2} = 0.1.$$\n",
    "2. Produce a simple plot of the results, $h(x)$ vs $x$.\n",
    "3. You will notice that the resulting function seems periodic. What is the period of the oscillations of this function? Here the period means the $x$ distance between adjacent maxima or minima. (*Note:* There are many ways to do this. We know how to get precise estimates!)\n",
    "4. Determine the minimum, maximum, and average wave height. Print these results."
   ]
  },
  {
   "cell_type": "markdown",
   "metadata": {},
   "source": [
    "First provide the documentation for your solution technique. Clearly describe the necessary ingredients and solution process *without* using code. Document your solution using Markdown and LaTeX."
   ]
  },
  {
   "cell_type": "markdown",
   "metadata": {
    "deletable": false,
    "nbgrader": {
     "cell_type": "markdown",
     "checksum": "ac4d0678d5aef60b5baea14ca0810512",
     "grade": true,
     "grade_id": "cell-6045305489b69876",
     "locked": false,
     "points": 1,
     "schema_version": 3,
     "solution": true
    }
   },
   "source": [
    "YOUR ANSWER HERE"
   ]
  },
  {
   "cell_type": "markdown",
   "metadata": {},
   "source": [
    "Next provide the code implementing your solution."
   ]
  },
  {
   "cell_type": "code",
   "execution_count": null,
   "metadata": {
    "deletable": false,
    "nbgrader": {
     "cell_type": "code",
     "checksum": "68552917b5fd35863ee6218daa1e8e4f",
     "grade": true,
     "grade_id": "cell-fce8294c21513274",
     "locked": false,
     "points": 1.5,
     "schema_version": 3,
     "solution": true
    }
   },
   "outputs": [],
   "source": [
    "# YOUR CODE HERE\n",
    "raise NotImplementedError()"
   ]
  },
  {
   "cell_type": "markdown",
   "metadata": {},
   "source": [
    "## Turning in the PreLab\n",
    "\n",
    "All prelabs will be handled as was done for PreLab01.  See that file for details.  It will be assumed from now on that you have read and understood the procedure and what it means when you submit a prelab."
   ]
  }
 ],
 "metadata": {
  "anaconda-cloud": {},
  "authors": [
   {
    "name": "Craig J Copi",
    "semester": "Spring 2019"
   }
  ],
  "kernelspec": {
   "display_name": "Python 3 (ipykernel)",
   "language": "python",
   "name": "python3"
  },
  "language_info": {
   "codemirror_mode": {
    "name": "ipython",
    "version": 3
   },
   "file_extension": ".py",
   "mimetype": "text/x-python",
   "name": "python",
   "nbconvert_exporter": "python",
   "pygments_lexer": "ipython3",
   "version": "3.10.9"
  }
 },
 "nbformat": 4,
 "nbformat_minor": 4
}
