{
 "cells": [
  {
   "cell_type": "markdown",
   "metadata": {},
   "source": [
    "# PreLab 04 : Numerical Integration\n",
    "\n",
    "## Objectives\n",
    "\n",
    "The main objectives of this lab are as follows.\n",
    "\n",
    "- Learn the Zen of Python.\n",
    "- Discover the incredible power of `scipy.integrate.quad`."
   ]
  },
  {
   "cell_type": "markdown",
   "metadata": {},
   "source": [
    "## Initialization\n",
    "\n",
    "As always you should add initialization to the top of your notebook. Though not strictly necessary, even for the prelab it is best to get into the good habit of including all initialization and not *assuming* the environment is set up correctly."
   ]
  },
  {
   "cell_type": "code",
   "execution_count": null,
   "metadata": {
    "deletable": false,
    "nbgrader": {
     "cell_type": "code",
     "checksum": "5d1ba5a21920a12891fee4d3faf11638",
     "grade": true,
     "grade_id": "cell-5050b1852e504821",
     "locked": false,
     "points": 0,
     "schema_version": 3,
     "solution": true
    }
   },
   "outputs": [],
   "source": [
    "# YOUR CODE HERE\n",
    "raise NotImplementedError()"
   ]
  },
  {
   "cell_type": "markdown",
   "metadata": {},
   "source": [
    "## Doing Things the \"Right Way\"\n",
    "\n",
    "Why are we being so insistent that notebooks should be written in specific ways, enforcing all sorts of \"rules\" on what you do? There are a number of reasons that could be given, but, in the end, they reduce to this being the right way to create sustainable documents  In research it is often the case that we need to revisit calculations performed months or even years earlier. This could be due to a referee's comment on a paper suggesting some small change to try or it could be that we are working on a similar project and want to reuse code from the past. In this course it could be that you need to look back at the labs while working on the computational portion of the midterm or final exams! In such cases we typically will have forgotten the details of what we had been working on and instead only have the code sitting there. Notebooks make it much easier to leave this code in a documented, usable form. Even so, if we have implicitly made assumptions about the environment in which the code will be run, these assumptions will have been long since forgotten when we come back to the code, and thus we would need to spend a lot of time trying to figure out \"what we were thinking\" at the time. If instead we are explicit about all these details it will be much easier to figure out what the code is doing and how to use/reuse it.\n",
    "\n",
    "In Python these ideas are even more strongly ingrained in the community. So much so that there is a \"Zen of Python\", a set of mantras to follow which will lead to better coding. Though you could search for this online, it is provided with Python itself.\n",
    "\n",
    "  Run \n",
    "  ```python\n",
    "  import this\n",
    "  ```\n",
    "  in the cell below."
   ]
  },
  {
   "cell_type": "code",
   "execution_count": null,
   "metadata": {},
   "outputs": [],
   "source": [
    "import this"
   ]
  },
  {
   "cell_type": "markdown",
   "metadata": {},
   "source": [
    "Now that your life has been changed we can proceed with the rest of the semeter ...."
   ]
  },
  {
   "cell_type": "markdown",
   "metadata": {},
   "source": [
    "## Homework!\n",
    "\n",
    "Read the homework and solve problem 1! Though it is not needed for this prelab and there is nothing you need to include here, you must read and solve this problem for the lab. You need a result from it to complete the lab. Note that this also means that you *will* get part of the homework correct since you will test the result in the lab."
   ]
  },
  {
   "cell_type": "markdown",
   "metadata": {},
   "source": [
    "## Romberg Integration\n",
    "\n",
    "Romberg integration of a function can be performed using `scipy.integrate.romberg`. You should of course look up its documentation. We will explore its use by considering the integral\n",
    "$$ \\int_0^\\phi \\sqrt{2-\\sin^2 x} \\,\\mathrm{d}x = \\sqrt{2} E\\!\\left( \\phi, \\frac{1}{2} \\right), $$\n",
    "where $E(\\phi,k)$ is the incomplete elliptic integral of the second kind. It is available in SciPy as `scipy.special.ellipeinc`.\n",
    "\n",
    "To begin, evaluate this integral using Romberg integration for $\\phi=48$. Print the resulting value, its fractional error, and the number of function evaluations required for the computation. (*Note:* Using `show=True` provides most of the required information. It just gets printed instead of stored in a variable. That is not ideal but is sufficient for our purposes.)"
   ]
  },
  {
   "cell_type": "code",
   "execution_count": null,
   "metadata": {
    "deletable": false,
    "nbgrader": {
     "cell_type": "code",
     "checksum": "9c4372a40519e924c35262d7f97d4743",
     "grade": true,
     "grade_id": "cell-2750d4f863fa5376",
     "locked": false,
     "points": 0.5,
     "schema_version": 3,
     "solution": true
    }
   },
   "outputs": [],
   "source": [
    "# YOUR CODE HERE\n",
    "raise NotImplementedError()"
   ]
  },
  {
   "cell_type": "markdown",
   "metadata": {},
   "source": [
    "Though the above works, it is not the most efficient way to calculate this integral.  Produce a quick plot of the integrand over the full range of the integral."
   ]
  },
  {
   "cell_type": "code",
   "execution_count": null,
   "metadata": {
    "deletable": false,
    "nbgrader": {
     "cell_type": "code",
     "checksum": "0f99d71fc839e87e28e975ee189cd3c2",
     "grade": true,
     "grade_id": "cell-227cfd06b4fa22a5",
     "locked": false,
     "points": 0.25,
     "schema_version": 3,
     "solution": true
    }
   },
   "outputs": [],
   "source": [
    "# YOUR CODE HERE\n",
    "raise NotImplementedError()"
   ]
  },
  {
   "cell_type": "markdown",
   "metadata": {},
   "source": [
    "You will notice that the function oscillates over a number of complete periods. Determine the oscillation frequency of the integrand (this you can do analytically!), the number of complete oscillations of the integrand, and the remaining extra part of an incomplete period at the end of the integrals range. Print these results. (*Note:* Here it is useful to employ `//` for integer division (or the `int()` function) to get the integer part of a calculation and `%` for modular arithmetic.)"
   ]
  },
  {
   "cell_type": "code",
   "execution_count": null,
   "metadata": {
    "deletable": false,
    "nbgrader": {
     "cell_type": "code",
     "checksum": "f1b2730f82567e77753563bf1e3a737a",
     "grade": true,
     "grade_id": "cell-c4f291c689c27cde",
     "locked": false,
     "points": 0.5,
     "schema_version": 3,
     "solution": true
    }
   },
   "outputs": [],
   "source": [
    "# YOUR CODE HERE\n",
    "raise NotImplementedError()"
   ]
  },
  {
   "cell_type": "markdown",
   "metadata": {},
   "source": [
    "It is more efficient to break up the complete integral into an integral over one period multiplied by the number of periods and an integral over the remaining part of a period. Use Romberg integration to separately evaluate these two integrals and combine them to get the complete result. Print the value of the total integral, its fractional error, and the total number of function evaluations required in this case."
   ]
  },
  {
   "cell_type": "code",
   "execution_count": null,
   "metadata": {
    "deletable": false,
    "nbgrader": {
     "cell_type": "code",
     "checksum": "c58a6f171955590beb3bf0d8a274e6c3",
     "grade": true,
     "grade_id": "cell-e3ef113fa763258b",
     "locked": false,
     "points": 0.5,
     "schema_version": 3,
     "solution": true
    }
   },
   "outputs": [],
   "source": [
    "# YOUR CODE HERE\n",
    "raise NotImplementedError()"
   ]
  },
  {
   "cell_type": "markdown",
   "metadata": {},
   "source": [
    "You should find that far fewer function evaluations are required when we split the integral as compared to integrating over the full range. Explain why this is the case."
   ]
  },
  {
   "cell_type": "markdown",
   "metadata": {
    "deletable": false,
    "nbgrader": {
     "cell_type": "markdown",
     "checksum": "c0de710a3785dda7b449faea7697331d",
     "grade": true,
     "grade_id": "cell-1300bab6d056de17",
     "locked": false,
     "points": 0.5,
     "schema_version": 3,
     "solution": true
    }
   },
   "source": [
    "YOUR ANSWER HERE"
   ]
  },
  {
   "cell_type": "markdown",
   "metadata": {},
   "source": [
    "Note that we could do even better. By symmetry, as seen in your plot above, we could instead integrate over a half period instead of a full period. Feel free to repeat the above now using a half period  You should find even fewer function evaluations are required!\n",
    "\n",
    "**This is not required.** But will be included in the solutions."
   ]
  },
  {
   "cell_type": "code",
   "execution_count": null,
   "metadata": {
    "deletable": false,
    "nbgrader": {
     "cell_type": "code",
     "checksum": "8f0c807b30a90d779064aef9c7c43a8d",
     "grade": true,
     "grade_id": "cell-63e2e3bf5c325a74",
     "locked": false,
     "points": 0,
     "schema_version": 3,
     "solution": true
    }
   },
   "outputs": [],
   "source": [
    "# YOUR CODE HERE\n",
    "raise NotImplementedError()"
   ]
  },
  {
   "cell_type": "markdown",
   "metadata": {},
   "source": [
    "## The Power of `quad`\n",
    "\n",
    "As noted in class, `scipy.integrate.quad` is an extremely powerful integration routine. It can do so many things that it still has its own function, `scipy.integrate.quad_explain`, to explain some of its more esoteric features. (Though all this information is included in the standard documentation now, so this extra function is not really needed.) Here we will study one set of features it provides without us even asking for it: the ability to handle divergences in the integrand at the end points of the integration range and integration over (semi-)infinite intervals."
   ]
  },
  {
   "cell_type": "markdown",
   "metadata": {},
   "source": [
    "### Divergent Integrand\n",
    "\n",
    "Consider the integral\n",
    "$$ \\int_0^1 \\frac{\\mathrm{d}x}{\\sqrt{x}}. $$\n",
    "You can perform this integral analytically. Do so! We will use the result below.  \n",
    "\n",
    "As a first numerical test, try to perform this integral using Romberg integration and see what happens."
   ]
  },
  {
   "cell_type": "code",
   "execution_count": null,
   "metadata": {
    "deletable": false,
    "nbgrader": {
     "cell_type": "code",
     "checksum": "628e83d88bfb07f1343ce9e4b946b3f4",
     "grade": true,
     "grade_id": "cell-c800a746d042b2fe",
     "locked": false,
     "points": 0.25,
     "schema_version": 3,
     "solution": true
    }
   },
   "outputs": [],
   "source": [
    "# YOUR CODE HERE\n",
    "raise NotImplementedError()"
   ]
  },
  {
   "cell_type": "markdown",
   "metadata": {},
   "source": [
    "We see that Romberg integration cannot handle this integral since it tries to evaluate the integrand at $x=0$, which is clearly a problem. Now do the same with `quad`. Print the value of the integral and the fractional error in the result. You should find it handles the integral with no problem and produces a very accurate result!"
   ]
  },
  {
   "cell_type": "code",
   "execution_count": null,
   "metadata": {
    "deletable": false,
    "nbgrader": {
     "cell_type": "code",
     "checksum": "62263cb636458832aa557217b6ba1216",
     "grade": true,
     "grade_id": "cell-3638abb8e00408fb",
     "locked": false,
     "points": 0.5,
     "schema_version": 3,
     "solution": true
    }
   },
   "outputs": [],
   "source": [
    "# YOUR CODE HERE\n",
    "raise NotImplementedError()"
   ]
  },
  {
   "cell_type": "markdown",
   "metadata": {},
   "source": [
    "### Semi-infinite Integral Range\n",
    "\n",
    "Consider the integral\n",
    "$$ \\int_1^\\infty \\frac{\\mathrm{d}x}{x^2} . $$\n",
    "Once again we can perform this integral analytically. Clearly this integral **cannot be performed** using a method like Romberg integration, Newton-Cotes formulas, *etc*., since we cannot evaluate them over an infinite range. Similar to the previous case, if we needed to perform these problematic integrals using those techniques we would need to transform the integral in some way  For this case it is relatively easy to do. If we let $y\\equiv 1/x$ then we can show\n",
    "$$ \\int_1^\\infty \\frac{\\mathrm{d}x}{x^2} = \\int_0^1 \\mathrm{d}y, $$\n",
    "a very simple integral to evaluate!"
   ]
  },
  {
   "cell_type": "markdown",
   "metadata": {},
   "source": [
    "This was a simple case, other integrands may be much more tedious to transform. Once again `quad` can handle the semi-infinite range for us. Use `quad` to perform the integral in its original, semi-infinite form. Print the value of the integral and the fractional error in this value. You should find that `quad` does exceptionally well, almost as if it were using the transformation we just discussed, .... (*Note:* We can specify infinity in a few ways. I will typically use `np.inf`, though there exists `np.infty`, `scipy.inf`, `scipy.infty`, and probably many other definitions of the same thing. They are all equivalent and any of them can be used.)"
   ]
  },
  {
   "cell_type": "code",
   "execution_count": null,
   "metadata": {
    "deletable": false,
    "nbgrader": {
     "cell_type": "code",
     "checksum": "8006ae0b5ab2b55430042b31b63de53e",
     "grade": true,
     "grade_id": "cell-abd8af4a943a5bdc",
     "locked": false,
     "points": 0.5,
     "schema_version": 3,
     "solution": true
    }
   },
   "outputs": [],
   "source": [
    "# YOUR CODE HERE\n",
    "raise NotImplementedError()"
   ]
  },
  {
   "cell_type": "markdown",
   "metadata": {},
   "source": [
    "### Infinite Integral Range\n",
    "\n",
    "Finally, `quad` can also handle a completely infinite range. Consider the normalization integral for the Gaussian distribution that we have seen in previous labs,\n",
    "$$ \\frac{1}{\\sqrt{2\\pi}\\sigma} \\int_{-\\infty}^\\infty \\exp\\left[ -\\frac{(x-\\mu)^2}{2\\sigma^2} \\right] \\mathrm{d}x = 1. $$\n",
    "Again we could transform this to integrals over finite ranges. In this case we could use various techniques, shift the integral to remove the mean, $\\mu$, from the integrand. Then use symmetry to turn it into an integral over the semi-infinite range $(0,\\infty)$. Next split this integral into two pieces, an integral from $0$ to $1$ and an integral from $1$ to $\\infty$. Finally, this second integral can be handled by the transformation discussed in the semi-infinite case above. Or, just let `quad` do it for us!"
   ]
  },
  {
   "cell_type": "markdown",
   "metadata": {},
   "source": [
    "Calculate this integral using `quad`. Print its value and fractional error. Note that this result holds for arbitrary mean, $\\mu$, and variance, $\\sigma$; for your own purposes you should try a few cases. Once again you should find it works extremely well!"
   ]
  },
  {
   "cell_type": "code",
   "execution_count": null,
   "metadata": {
    "deletable": false,
    "nbgrader": {
     "cell_type": "code",
     "checksum": "fe2ed09253efa89753eed3b7ed338931",
     "grade": true,
     "grade_id": "cell-401b1d2ef0c40c82",
     "locked": false,
     "points": 0.5,
     "schema_version": 3,
     "solution": true
    }
   },
   "outputs": [],
   "source": [
    "# YOUR CODE HERE\n",
    "raise NotImplementedError()"
   ]
  },
  {
   "cell_type": "markdown",
   "metadata": {},
   "source": [
    "## Turning in the PreLab\n",
    "\n",
    "All prelabs will be handled as was done for PreLab01.  See that file for details.  It will be assumed from now on that you have read and understood the procedure and what it means when you submit a prelab."
   ]
  }
 ],
 "metadata": {
  "anaconda-cloud": {},
  "authors": [
   {
    "name": "Craig J Copi",
    "semester": "Spring 2019"
   }
  ],
  "kernelspec": {
   "display_name": "Python 3 (ipykernel)",
   "language": "python",
   "name": "python3"
  },
  "language_info": {
   "codemirror_mode": {
    "name": "ipython",
    "version": 3
   },
   "file_extension": ".py",
   "mimetype": "text/x-python",
   "name": "python",
   "nbconvert_exporter": "python",
   "pygments_lexer": "ipython3",
   "version": "3.10.9"
  }
 },
 "nbformat": 4,
 "nbformat_minor": 4
}
