{
 "cells": [
  {
   "cell_type": "markdown",
   "metadata": {},
   "source": [
    "# Pre Lab 07 : More Problem Solving\n",
    "\n",
    "## Objectives\n",
    "\n",
    "The main objectives of this lab are as follows.\n",
    "\n",
    "- Numerically calculate the Jacobian matrix.\n",
    "- Use broadcasting to do a calculation without loops!\n",
    "- Prepare for the lab!"
   ]
  },
  {
   "cell_type": "markdown",
   "metadata": {},
   "source": [
    "## Initialization\n",
    "\n",
    "As always you should add initialization to the top of your notebook."
   ]
  },
  {
   "cell_type": "code",
   "execution_count": null,
   "metadata": {
    "deletable": false,
    "nbgrader": {
     "cell_type": "code",
     "checksum": "1b56cb89f7a91c91e1f6bb1f905cc6d2",
     "grade": true,
     "grade_id": "cell-365cf35978c971ea",
     "locked": false,
     "points": 0,
     "schema_version": 3,
     "solution": true
    }
   },
   "outputs": [],
   "source": [
    "# YOUR CODE HERE\n",
    "raise NotImplementedError()"
   ]
  },
  {
   "cell_type": "markdown",
   "metadata": {},
   "source": [
    "## Jacobian Matrix\n",
    "\n",
    "For a system of functions of many variables, $\\vec f(\\vec x)$, we have seen that the Jacobian matrix, $\\mathsf{J}_{\\vec f}(\\vec x)$ can be written as\n",
    "$$\n",
    "\\mathsf{J}_{\\vec f} (\\vec x) = \\begin{pmatrix}\n",
    "\\frac{\\partial f_1}{\\partial x_1} & \\frac{\\partial f_1}{\\partial x_2} & \\cdots \\\\\n",
    "\\frac{\\partial f_2}{\\partial x_1} & \\frac{\\partial f_2}{\\partial x_2} & \\cdots \\\\\n",
    "\\vdots & \\vdots & \\ddots\n",
    "\\end{pmatrix},\n",
    "$$\n",
    "or in other words that the components are just\n",
    "$$ J_{ij}(\\vec x) = \\frac{\\partial f_i(\\vec x)}{\\partial x_j}. $$\n",
    "\n",
    "Here we will construct this matrix both analytically and numerically."
   ]
  },
  {
   "cell_type": "markdown",
   "metadata": {},
   "source": [
    "### Simple System\n",
    "\n",
    "As a simple example let us consider two functions:\n",
    "\\begin{align}\n",
    "f_1(\\vec x) & = x_1 \\sin(x_2), \\\\\n",
    "f_2(\\vec x) & = 2 x_2 \\cos(x_1) .\n",
    "\\end{align}"
   ]
  },
  {
   "cell_type": "markdown",
   "metadata": {},
   "source": [
    "Analytically calculate the Jacobian matrix and write it using LaTeX below. (*Hint:* See the cell above for a simply way to typeset a matrix in LaTeX.)"
   ]
  },
  {
   "cell_type": "markdown",
   "metadata": {
    "deletable": false,
    "nbgrader": {
     "cell_type": "markdown",
     "checksum": "64b767cb96501daa215829f3e2446bc1",
     "grade": true,
     "grade_id": "cell-8a7b85882f57ea7e",
     "locked": false,
     "points": 0.5,
     "schema_version": 3,
     "solution": true
    }
   },
   "source": [
    "YOUR ANSWER HERE"
   ]
  },
  {
   "cell_type": "markdown",
   "metadata": {},
   "source": [
    "Write a Python function that calculates the Jacobian matrix and returns it as a two dimensional NumPy array. Your function must be of the form\n",
    "```\n",
    "def Jacobian_analytic(x):\n",
    "```\n",
    "where `x` will be a two component array. It must return a $2\\times 2$ `numpy` array."
   ]
  },
  {
   "cell_type": "code",
   "execution_count": null,
   "metadata": {
    "deletable": false,
    "nbgrader": {
     "cell_type": "code",
     "checksum": "0902eebc223d2a591d4ff575a62714d8",
     "grade": false,
     "grade_id": "cell-9eff3b271fde5ce1",
     "locked": false,
     "schema_version": 3,
     "solution": true
    }
   },
   "outputs": [],
   "source": [
    "def Jacobian_analytic(x):\n",
    "# YOUR CODE HERE\n",
    "raise NotImplementedError()"
   ]
  },
  {
   "cell_type": "code",
   "execution_count": null,
   "metadata": {
    "deletable": false,
    "editable": false,
    "nbgrader": {
     "cell_type": "code",
     "checksum": "696e87af2d9e4370b74908bc78dee8b9",
     "grade": true,
     "grade_id": "cell-a49a079f1dfd345e",
     "locked": true,
     "points": 0.25,
     "schema_version": 3,
     "solution": false
    }
   },
   "outputs": [],
   "source": [
    "# DO NOT REMOVE THIS CELL\n",
    "# This cell is used during grading."
   ]
  },
  {
   "cell_type": "markdown",
   "metadata": {},
   "source": [
    "For simple choices of $x_1$ and $x_2$, write a test case for your function `Jacobian_analytic`."
   ]
  },
  {
   "cell_type": "code",
   "execution_count": null,
   "metadata": {
    "deletable": false,
    "nbgrader": {
     "cell_type": "code",
     "checksum": "58707e2d7a6194563e4c472676bd4344",
     "grade": true,
     "grade_id": "cell-1f6b35108ef4d3d6",
     "locked": false,
     "points": 0.25,
     "schema_version": 3,
     "solution": true,
     "task": false
    }
   },
   "outputs": [],
   "source": [
    "# YOUR CODE HERE\n",
    "raise NotImplementedError()"
   ]
  },
  {
   "cell_type": "markdown",
   "metadata": {},
   "source": [
    "### Numerical Jacobian Matrix\n",
    "\n",
    "We can also calculate the Jacobian matrix by calculating the derivatives of the functions numerically. Here we will use center differencing to calculate the derivatives (in many libraries forward differencing is used for this purpose)."
   ]
  },
  {
   "cell_type": "markdown",
   "metadata": {},
   "source": [
    "To begin, write a function that evaluates our system of functions. This function must work on a two dimensional array of input values of shape $(2, N)$, similar to what we did for last weeks lab. Verify that if you pass in a $(2, N)$ array, it returns a $(2,N)$ array."
   ]
  },
  {
   "cell_type": "code",
   "execution_count": null,
   "metadata": {
    "deletable": false,
    "nbgrader": {
     "cell_type": "code",
     "checksum": "4800221b5fe9720ac2de2dd0ea12157e",
     "grade": true,
     "grade_id": "cell-ed7b8a53c4dd9e09",
     "locked": false,
     "points": 0.5,
     "schema_version": 3,
     "solution": true
    }
   },
   "outputs": [],
   "source": [
    "def funcs(x):\n",
    "# YOUR CODE HERE\n",
    "raise NotImplementedError()"
   ]
  },
  {
   "cell_type": "markdown",
   "metadata": {},
   "source": [
    "We know how to calculate the derivative using center differencing for a single function of one variable. How do we do it for many functions of many variables? Here we can use **broadcasting** to help us. In our case we will use a step size $h_1=1\\times 10^{-5}$ to calculate derivatives with respect to $x_1$ and $h_2=5\\times 10^{-6}$ to calculate derivatives with respect to $x_2$.\n",
    "\n",
    "For the case we are considering here, in the Jacobian matrix we need to calculate four different derivatives. In each derivative we only want to change one of the $x_i$ using the associated $h_i$. How can we do this without a loop?\n",
    "\n",
    "To see how to do this, let us begin by calculating the first column of the Jacobian matrix. Here we are taking derivatives of both of our functions with respect to $x_1$ only. We know how to do that using center differencing. In this case we can let\n",
    "```\n",
    "h = np.array([1e-5, 0])\n",
    "```\n",
    "then `x+h` and `x-h` will *do the right thing* and only change $x_1$, not $x_2$. (Recall that we should not use $h$ as we have written it. Numerically we want to have an \"exact\" $h$. We have seen how to do this a number of times. How do we do that? What should we actually use as `h` in our code?)"
   ]
  },
  {
   "cell_type": "markdown",
   "metadata": {},
   "source": [
    "Numerically calculate the first column of the Jacobian matrix using center differencing.  Use `assert` to verify that your results are in good agreement with the first column of your analytic Jacobian. For this test use $x_1=\\pi/8$ and $x_2=\\pi/4$."
   ]
  },
  {
   "cell_type": "code",
   "execution_count": null,
   "metadata": {
    "deletable": false,
    "nbgrader": {
     "cell_type": "code",
     "checksum": "743882e9e6787fd12058af2dda2d35b5",
     "grade": true,
     "grade_id": "cell-4c923756a3552867",
     "locked": false,
     "points": 0.75,
     "schema_version": 3,
     "solution": true
    }
   },
   "outputs": [],
   "source": [
    "# YOUR CODE HERE\n",
    "raise NotImplementedError()"
   ]
  },
  {
   "cell_type": "markdown",
   "metadata": {},
   "source": [
    "Next we will calculate the full Jacobian matrix using broadcasting. Here is how we can do it.\n",
    "\n",
    "Let `h` be an array containing $h_1$ and $h_2$. Next we can construct a diagonal matrix with each value of `h` on the diagonal using `np.diag(h)`. Then we can add (or subtract) this from `x` to get one of $x_1$ or $x_2$ shifted by the appropriate $h_i$ in a $2\\times2$ array. Finally, we can feed this to `funcs` to evaluate our system of functions as the appropriate points and use this to calculate the derivatives using center differencing and ultimately construct the Jacobian.\n",
    "\n",
    "All of that sounds confusing. Here is where using an interactive, interpreted language is great: we can test and explore each step. Begin by constructing the `h` array. Then turn it into a two dimensional array. Add (or subtract) it from `x`, what does that look like? Pass this result to `funcs`, what does it look like? Are they in the right order for the Jacobian? Finally calculate the numerical derivatives. We can compare them to our analytic Jacobian. Of course everything is not going to work smoothly. Some things will not be in the right place. That is fine, we know how to swap rows and columns using the transpose!"
   ]
  },
  {
   "cell_type": "markdown",
   "metadata": {},
   "source": [
    "Numerically calculate the Jacobian using center differencing. Call it `J`. We will next want to compare it to `Jacobian_analytic` so you should make sure your `J` is ordered the same way as you get from `Jacobian_analytic`."
   ]
  },
  {
   "cell_type": "code",
   "execution_count": null,
   "metadata": {
    "deletable": false,
    "nbgrader": {
     "cell_type": "code",
     "checksum": "4f953fdf6c9390fd7b642ad7966a10da",
     "grade": true,
     "grade_id": "cell-59e11ffc8777c718",
     "locked": false,
     "points": 0.25,
     "schema_version": 3,
     "solution": true,
     "task": false
    }
   },
   "outputs": [],
   "source": [
    "# YOUR CODE HERE\n",
    "raise NotImplementedError()"
   ]
  },
  {
   "cell_type": "markdown",
   "metadata": {},
   "source": [
    "Write a test using `assert` to verify that your `J` agrees with your `Jacobian_analytic`."
   ]
  },
  {
   "cell_type": "code",
   "execution_count": null,
   "metadata": {
    "deletable": false,
    "nbgrader": {
     "cell_type": "code",
     "checksum": "5ee6e9dabaf2581594c1c0a4e2429046",
     "grade": true,
     "grade_id": "cell-e804d293c042642d",
     "locked": false,
     "points": 0.5,
     "schema_version": 3,
     "solution": true,
     "task": false
    }
   },
   "outputs": [],
   "source": [
    "# YOUR CODE HERE\n",
    "raise NotImplementedError()"
   ]
  },
  {
   "cell_type": "markdown",
   "metadata": {},
   "source": [
    "We are finally going to want to write a function to do the work for us.\n",
    "\n",
    "Define a function to numerically calculate the Jacobian matrix using center differencing. This function takes as input a function `f` which evaluates the system of functions, an array `x` which is the point at which we are evaluating the Jacobian, and an array `h` which are the step sizes to use for calculating the derivatives. Do not forget to document your function!\n",
    "\n",
    "(Notice that we do not include a method for passing in extra arguments to our function, `f`. We know how we could do this. Alternatively, since it is not provided, we know how work around this when using `Jacobian` if `f` did require extra arguments! We will include extra arguments in the lab.)"
   ]
  },
  {
   "cell_type": "code",
   "execution_count": null,
   "metadata": {
    "deletable": false,
    "nbgrader": {
     "cell_type": "code",
     "checksum": "efda23e0d4bf23cee481863de8d6591f",
     "grade": false,
     "grade_id": "cell-ee0fba58f4ed661a",
     "locked": false,
     "schema_version": 3,
     "solution": true
    }
   },
   "outputs": [],
   "source": [
    "def Jacobian(f, x, h):\n",
    "# YOUR CODE HERE\n",
    "raise NotImplementedError()"
   ]
  },
  {
   "cell_type": "code",
   "execution_count": null,
   "metadata": {
    "deletable": false,
    "editable": false,
    "nbgrader": {
     "cell_type": "code",
     "checksum": "64566df276f0e3e56dd96de5ef2e1ea3",
     "grade": true,
     "grade_id": "cell-3c7174587affcb74",
     "locked": true,
     "points": 0.5,
     "schema_version": 3,
     "solution": false
    }
   },
   "outputs": [],
   "source": [
    "# DO NOT REMOVE THIS CELL\n",
    "# This cell is used during grading."
   ]
  },
  {
   "cell_type": "markdown",
   "metadata": {},
   "source": [
    "Finally, test your Jacobian function using `assert` by verifying that the numerical function produces the same result as the analytic function for some choice of `x` and `h`. (Using the example from above is fine, though you can and should do multiple tests.)"
   ]
  },
  {
   "cell_type": "code",
   "execution_count": null,
   "metadata": {
    "deletable": false,
    "nbgrader": {
     "cell_type": "code",
     "checksum": "4e2eb6ebe2731f40a6c683f005ea41fb",
     "grade": true,
     "grade_id": "cell-f1fc608dbfebf4b4",
     "locked": false,
     "points": 0.5,
     "schema_version": 3,
     "solution": true,
     "task": false
    }
   },
   "outputs": [],
   "source": [
    "# YOUR CODE HERE\n",
    "raise NotImplementedError()"
   ]
  },
  {
   "cell_type": "markdown",
   "metadata": {},
   "source": [
    "## Lab Preparation\n",
    "\n",
    "The lab this week will involve the actual solution to that static spring-mass system. Along the way we will encounter some issues so there are a number of steps that will be needed. There are a few things that can/should be done to prepare for meeting with your group. Some of them are listed here as things you should work on or check. You do not need to include anything in the prelab, but any work you do now will make completing the lab easier."
   ]
  },
  {
   "cell_type": "markdown",
   "metadata": {},
   "source": [
    "### Function Definition and Tests\n",
    "\n",
    "In the previous lab you wrote a function defining the static conditions. You also created some test cases.  It is essential that this function works! To help make sure it does, here are a few test cases to compare against.  In all of these cases it must be true that $\\vec f(\\vec y)=0$. If this is not true, then there is an error in your function and it must be corrected before you can proceed with the lab.\n",
    "\n",
    "First we consider two physically motivated test cases (these are taken from the Lab 06 solutions which will be posted after the next lab is completed). These are not the only physical test cases that could have been created, they are just examples. Note that in both of these cases there is freedom to make some choices, you can choose particular values or randomly assign them.  It would be good to run your visualization code also to make sure it produces the expected results.\n",
    "\n",
    "#### Physical test case 1\n",
    "\n",
    "A simple test case is when $k_1=k_2$, spring 3 is horizontal, and the masses are hanging straight down.  This means that $\\theta_1=\\theta_2=\\pi/2$ and $\\theta_3=0$. We further need $\\ell_{0,3}=1$ and $\\ell_{0,1}=\\ell_{0,2}$. Finally, we set $\\mu_1=\\mu_2$.  To achieve this case we need the force provided by springs 1 and 2 to balance gravity. Thus we require $\\kappa_1 (\\ell_1 - \\ell_{0,1}) = \\mu_1$. We can solve this equation for one of $\\kappa_1$, $\\ell_1$, $\\ell_{0,1}$, or $\\mu_1$ once we have specified the other quantities.\n",
    "\n",
    "#### Physical test case 2\n",
    "\n",
    "Another fairly simple case is when spring 2 (or equivalently spring 1) is missing. In other words when $\\kappa_2=0$. In this case the two masses just hang straight down and we need to satisfy the relations\n",
    "\\begin{align}\n",
    " \\kappa_1 \\Delta\\ell_1 &= \\mu_1 + \\mu_2, \\\\\n",
    " \\kappa_3 \\Delta\\ell_3 &= \\mu_2.\n",
    "\\end{align}\n",
    "If we arbitrarily choose $\\kappa_1$, $\\kappa_3$, $\\mu_1$, $\\mu_2$, and $\\ell_{0,i}$ we can then solve the above two equations for $\\ell_1$ and $\\ell_3$. From these we then calculate\n",
    "$$\n",
    "\\ell_2 = \\sqrt{1+(\\ell_1+\\ell_3)^2} \\quad\\mathrm{and}\\quad \\tan\\theta_2 = \\frac{\\ell_1+\\ell_3}{1}.\n",
    "$$\n",
    "Finally, with $\\theta_1 = \\pi/2$ and $\\theta_3 = -\\pi/2$ (recall from the figure how we have defined $\\theta_3$) we have a valid static configuration.\n",
    "\n",
    "#### Symmetric case\n",
    "\n",
    "As a more complicated case you can consider a less trivial symmetric configuration. Let $\\mu_1=\\mu_2 = 1/\\sqrt{3}$, $\\kappa_1=\\kappa_2=3$, $\\kappa_3=4$, $\\ell_{0,1}=\\ell_{0,2}=4/9$, and $\\ell_{0,3}=1/4$. This produces a static configuration with $\\ell_1=\\ell_2 = 2/3$, $\\ell_3 = 1/3$, $\\theta_1=\\theta_2 = \\pi/3$, and $\\theta_3=0$."
   ]
  },
  {
   "cell_type": "markdown",
   "metadata": {},
   "source": [
    "### Preliminary Work for the Lab\n",
    "\n",
    "When you read the lab you will see that there are a few functions we need to write. A number of these can be done prior to working on the lab as a group. In particular, converting the solutions to standard form in the function `to_standard_form()`, can be written independent of the lab. Further, generalizing the Jacobian you wrote for the prelab to one that uses a function that takes extra arguments can be done. Finally, even implementing the Newton-Raphson method can be done without direct reference to the problem we are solving."
   ]
  },
  {
   "cell_type": "markdown",
   "metadata": {},
   "source": [
    "## Turning in the PreLab\n",
    "\n",
    "All prelabs will be handled as was done for PreLab01.  See that file for details. It will be assumed from now on that you have read and understood the procedure and what it means when you submit a prelab."
   ]
  }
 ],
 "metadata": {
  "anaconda-cloud": {},
  "authors": [
   {
    "name": "Craig J Copi",
    "semester": "Spring 2022"
   }
  ],
  "kernelspec": {
   "display_name": "Python 3 (ipykernel)",
   "language": "python",
   "name": "python3"
  },
  "language_info": {
   "codemirror_mode": {
    "name": "ipython",
    "version": 3
   },
   "file_extension": ".py",
   "mimetype": "text/x-python",
   "name": "python",
   "nbconvert_exporter": "python",
   "pygments_lexer": "ipython3",
   "version": "3.10.9"
  }
 },
 "nbformat": 4,
 "nbformat_minor": 4
}
