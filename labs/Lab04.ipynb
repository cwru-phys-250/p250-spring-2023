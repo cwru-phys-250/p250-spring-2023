{
 "cells": [
  {
   "cell_type": "markdown",
   "metadata": {},
   "source": [
    "# Lab 04 : Numerical Integration\n",
    "\n",
    "## Objectives\n",
    "\n",
    "In this lab we will study the extremely powerful integration routine provided for us in `scipy.integrate.quad`. Despite being extremely powerful, we can make it even better by performing mathematical transformations of the integrals we wish to evaluate.  **This lab is an extension of the analytic work performed in Homework 04, Problem 1 and relies on some of those results.**\n",
    "\n",
    "We will study the simple pendulum. Despite being \"simple\", recall from introductory physics that we can only solve for the motion of small amplitude oscillations.  Here we will study the full motion of the pendulum."
   ]
  },
  {
   "cell_type": "markdown",
   "metadata": {},
   "source": [
    "## Initialization\n",
    "\n",
    "You can mostly just run the following and ignore the details. This is some magic required to get equation numbering and referencing working (another of the many great features of LaTeX). **You need to run this cell to get equations numbered and labels to work.** You also need to rerun this cell anytime you need to rerender the numbered equations found below. It shows how other languages can be included in a Jupyter notebook. In this case it is javascript, but C, FORTRAN, and many other languages could be included in a similar manner."
   ]
  },
  {
   "cell_type": "code",
   "execution_count": null,
   "metadata": {},
   "outputs": [],
   "source": [
    "%%javascript\n",
    "// Turn on automatic equations numbers and allow for equation labeling and referencing.\n",
    "MathJax.Hub.Config({\n",
    "  TeX: { equationNumbers: { autoNumber: \"AMS\" } }\n",
    "});\n",
    "// The following reprocesses/renumbers the equations when executed. When cells with numbered equations are reprocessed\n",
    "// the equation number keeps incrementing. When numbered equations have labels an error occurs and the equation does not\n",
    "// actually get rendered. Rerun this cell to reset the equation numbers and render all the equations in the document.\n",
    "MathJax.Hub.Queue(\n",
    "    [\"resetEquationNumbers\", MathJax.InputJax.TeX],\n",
    "    [\"PreProcess\", MathJax.Hub], \n",
    "    [\"Reprocess\", MathJax.Hub]\n",
    ");"
   ]
  },
  {
   "cell_type": "markdown",
   "metadata": {},
   "source": [
    "As always initialize, your environment now by loading all modules required and setting up the plotting environment. "
   ]
  },
  {
   "cell_type": "code",
   "execution_count": null,
   "metadata": {
    "deletable": false,
    "nbgrader": {
     "cell_type": "code",
     "checksum": "d81ee7940ecdd9271d351db1a5c6aece",
     "grade": true,
     "grade_id": "cell-e619b145e7bb29a5",
     "locked": false,
     "points": 0,
     "schema_version": 3,
     "solution": true
    }
   },
   "outputs": [],
   "source": [
    "# YOUR CODE HERE\n",
    "raise NotImplementedError()"
   ]
  },
  {
   "cell_type": "markdown",
   "metadata": {},
   "source": [
    "## Pendulum Motion\n",
    "\n",
    "As seen in the homework, the period of the oscillations of a pendulum can be written in a few equivalent forms:\n",
    "$$\n",
    "\\begin{align}\n",
    "\\frac{T(\\theta_m)}{T_0} & = \\frac{\\sqrt 2}{\\pi} \\int_0^{\\theta_m} \\frac{\\mathrm{d}\\theta}{\\sqrt{\\cos\\theta-\\cos\\theta_m}}, \\label{eq:period1} \\\\\n",
    " & = \\frac{2}{\\pi} \\int_0^{\\pi/2} \\frac{\\mathrm{d}\\psi}{\\sqrt{1-\\sin^2(\\theta_m/2)\\sin^2\\psi}}, \\label{eq:period2} \\\\\n",
    " & = 1 + \\sum_{n=1}^\\infty a_{2n} \\sin^{2n}(\\theta_m/2). \\label{eq:periodsum}\n",
    "\\end{align}\n",
    "$$\n",
    "For the series form, you have calculated the values of the coefficients up to $a_8$. We will explore all of these forms in this lab."
   ]
  },
  {
   "cell_type": "markdown",
   "metadata": {},
   "source": [
    "### Period Calculations\n",
    "\n",
    "Calculate the period using the three expressions above for $\\theta_m$ on a grid from 1 up to and including 179 degrees in steps of 1 degree. We are faced with the question \"to loop or not to loop\".\n",
    "\n",
    "For the two integrals $(\\ref{eq:period1})$ and $(\\ref{eq:period2})$ we could use `quad_vec`. To do so we would need to rewrite $(\\ref{eq:period1})$ so that $\\theta_m$ is not in the limits of integration. This is easy using a simple substitution. However, the integrand has a divergence at the upper limit and it seems that `quad_vec` does not handle this as well as `quad` does. The form in $(\\ref{eq:period2})$ can directly be used with `quad_vec`. In fact, the way we would naturally write the function can be used with an array of $\\theta_m$ values without any additional effort.\n",
    "\n",
    "For the series $(\\ref{eq:periodsum})$ we *could* avoid writing a loop, but we have not learned how to do so. It could be done using broadcasting and other properties `np.sum`, or using `np.einsum`, and presumably in other ways. Since we have not learned about that and since this really is not a performance critical calculation it will be acceptable to use a loop.\n",
    "\n",
    "Further, if we are already using a loop for some of the calculations, it is fine to use the same loop for all the calculations. As seen in the example this week, when we do need to write our own loops it is best to preallocate storage space for the results using `np.zeros` or `np.zeros_like`.\n",
    "\n",
    "After performing the calculations, produce a figure showing the period calculated from the three methods as a function of the pendulum amplitude."
   ]
  },
  {
   "cell_type": "code",
   "execution_count": null,
   "metadata": {
    "deletable": false,
    "nbgrader": {
     "cell_type": "code",
     "checksum": "7062234069dba6bf8c72fe60b106d937",
     "grade": true,
     "grade_id": "cell-cc686d2ba2511819",
     "locked": false,
     "points": 20,
     "schema_version": 3,
     "solution": true
    }
   },
   "outputs": [],
   "source": [
    "# YOUR CODE HERE\n",
    "raise NotImplementedError()"
   ]
  },
  {
   "cell_type": "markdown",
   "metadata": {},
   "source": [
    "### Error in the Integrals\n",
    "\n",
    "You should find that the two integrals agree with each other, but that the series does not agree with the integrals when the initial amplitude is large. We will look at the series in more detail below. For now let us focus on the integrals; we want to carefully look at their accuracy. As noted in the homework, the integral *can* actually be performed in terms of a special function, the elliptic integral of the first kind,\n",
    "$$ \\frac{T(\\theta_m)}{T_0} = \\frac{2}{\\pi} K\\left[ \\sin^2\\left( \\frac{\\theta_m}{2} \\right) \\right]. $$\n",
    "The elliptic integral of the first kind can be accessed as `scipy.special.ellipk`. (*Note:* I have used a notation here consistent with SciPy, however, this is not universal. In other places you will find what we are calling $K(x^2)$ instead written as $K(x)$. In general, before using a special function you should verify the library is using the same conventions as you are!)\n",
    "\n",
    "We are going to produce another figure. Whenever multiple figures are produced using the same quantities, in every figure you should always use the same line style or marker type, colors, *etc*. for the same quantity in each figure. This makes it much easier for the reader to connect the results among the figures.  For example, this means that if you used purple horse shoes to represent the integral from Eq. $(\\ref{eq:period1})$ in your first figure, then you should also use purple horse shoes to represent the error in the integral from Eq. $(\\ref{eq:period1})$ in the figure you are about to create. (*Note:*  Do **not** use purple horse shoes as a marker.)"
   ]
  },
  {
   "cell_type": "markdown",
   "metadata": {},
   "source": [
    "Produce a figure showing the fractional error in the two integrals $(\\ref{eq:period1})$ and $(\\ref{eq:period2})$. You may get a warning when you create this plot and/or one of the curves may look strange."
   ]
  },
  {
   "cell_type": "code",
   "execution_count": null,
   "metadata": {
    "deletable": false,
    "nbgrader": {
     "cell_type": "code",
     "checksum": "7653bb0946d07100669b67da33fbc2a9",
     "grade": true,
     "grade_id": "cell-86244b335ef9a569",
     "locked": false,
     "points": 7,
     "schema_version": 3,
     "solution": true
    }
   },
   "outputs": [],
   "source": [
    "# YOUR CODE HERE\n",
    "raise NotImplementedError()"
   ]
  },
  {
   "cell_type": "markdown",
   "metadata": {},
   "source": [
    "The error from the integral in Eq. $(\\ref{eq:period2})$ should look strange. You may be worried that is incorrect. Explain the source of the strange behavior of this error curve. (*Hint:* Look at the actual numerical values of the errors, not just as they show up in the plot.)"
   ]
  },
  {
   "cell_type": "markdown",
   "metadata": {
    "deletable": false,
    "nbgrader": {
     "cell_type": "markdown",
     "checksum": "51cdf9e056223e0433c9ac35898d1396",
     "grade": true,
     "grade_id": "cell-1cc374e882ae0675",
     "locked": false,
     "points": 2,
     "schema_version": 3,
     "solution": true
    }
   },
   "source": [
    "YOUR ANSWER HERE"
   ]
  },
  {
   "cell_type": "markdown",
   "metadata": {},
   "source": [
    "### Series Formula\n",
    "\n",
    "Returning to the series form in $(\\ref{eq:periodsum})$ it is not surprising that it does a poor job at large amplitude, particularly since we truncate the sum after a few terms, at $a_8$. Explain why this is the case."
   ]
  },
  {
   "cell_type": "markdown",
   "metadata": {
    "deletable": false,
    "nbgrader": {
     "cell_type": "markdown",
     "checksum": "62ccd3a96d4448bab23efd58066d47ae",
     "grade": true,
     "grade_id": "cell-728232d1cc3ada4e",
     "locked": false,
     "points": 3,
     "schema_version": 3,
     "solution": true
    }
   },
   "source": [
    "YOUR ANSWER HERE"
   ]
  },
  {
   "cell_type": "markdown",
   "metadata": {},
   "source": [
    "For what amplitude, $\\theta_m$, from the grid used above, does the fractional error in the period calculated using the series form $(\\ref{eq:periodsum})$ become larger than $10^{-10}$? (*Note:* The clever way to do this is to use the `where` function, though we have not discussed the `where` function yet so it is not necessary to use it here here. Instead, you can just look through the list of values and find the relevant one  We will learn about the `where` function in the near future. Also note that we want the **value of the amplitude, $\\theta_m$**, not the index number of where this occurs in the array you calculated.)"
   ]
  },
  {
   "cell_type": "code",
   "execution_count": null,
   "metadata": {
    "deletable": false,
    "nbgrader": {
     "cell_type": "code",
     "checksum": "0008e6ee09a20cd628342574cbb1a537",
     "grade": true,
     "grade_id": "cell-b603af262dd1de89",
     "locked": false,
     "points": 4,
     "schema_version": 3,
     "solution": true
    }
   },
   "outputs": [],
   "source": [
    "# YOUR CODE HERE\n",
    "raise NotImplementedError()"
   ]
  },
  {
   "cell_type": "markdown",
   "metadata": {},
   "source": [
    "## Analytic Manipulations\n",
    "\n",
    "You may wonder why we bothered to have two different integral forms for the period, $(\\ref{eq:period1})$ and $(\\ref{eq:period2})$. Since `quad` can handle divergent integrands it can, and does, give us good answers to the integral in Eq. $(\\ref{eq:period1})$, so why bother doing the analytic work to transform the integral? We found above that the transformed integral $(\\ref{eq:period2})$ did lead to smaller errors, so that is a benefit. Even more so, the transformed integral requires far less work to compute. Thus by doing a small mathematical manipulation (as you have done in the homework) we arrive at a much easier and much more accurate formula for the computer to evaluate.\n",
    "\n",
    "To verify this, calculate the period for $\\theta_m=97^\\circ$ using $(\\ref{eq:period1})$ and $(\\ref{eq:period2})$. Print the fractional errors and number of function evaluations required for each integral. Be amazed!"
   ]
  },
  {
   "cell_type": "code",
   "execution_count": null,
   "metadata": {
    "deletable": false,
    "nbgrader": {
     "cell_type": "code",
     "checksum": "43c18786e90ac973eb5b74c4bfe9cf19",
     "grade": true,
     "grade_id": "cell-4bed470401d8505d",
     "locked": false,
     "points": 4,
     "schema_version": 3,
     "solution": true
    }
   },
   "outputs": [],
   "source": [
    "# YOUR CODE HERE\n",
    "raise NotImplementedError()"
   ]
  },
  {
   "cell_type": "markdown",
   "metadata": {},
   "source": [
    "## Member Participation\n",
    "\n",
    "See Lab00 for instructions on turning in labs.  We will follow this procedure the entire semester.\n",
    "\n",
    "In the following cell enter the *Case ID* for each student in the group who participated in this lab.  Again, see Lab00 for more details.  It is expected that you have read and understood those details."
   ]
  },
  {
   "cell_type": "markdown",
   "metadata": {},
   "source": []
  }
 ],
 "metadata": {
  "anaconda-cloud": {},
  "authors": [
   {
    "name": "Craig J Copi",
    "semester": "Spring 2019"
   }
  ],
  "kernelspec": {
   "display_name": "Python 3 (ipykernel)",
   "language": "python",
   "name": "python3"
  },
  "language_info": {
   "codemirror_mode": {
    "name": "ipython",
    "version": 3
   },
   "file_extension": ".py",
   "mimetype": "text/x-python",
   "name": "python",
   "nbconvert_exporter": "python",
   "pygments_lexer": "ipython3",
   "version": "3.10.9"
  }
 },
 "nbformat": 4,
 "nbformat_minor": 4
}
