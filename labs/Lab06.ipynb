{
 "cells": [
  {
   "cell_type": "markdown",
   "metadata": {},
   "source": [
    "# Lab 06 : Problem Solving (part 1)\n",
    "\n",
    "## Objectives\n",
    "\n",
    "This is the first part of a two part lab.\n",
    "\n",
    "We will work through the details of how to solve a problem. This will include analytic manipulations, clear documentation, and parameter independent implementations.\n",
    "\n",
    "The first part will mainly focus on setting up the problem and getting it into a form we can solve numerically."
   ]
  },
  {
   "cell_type": "markdown",
   "metadata": {},
   "source": [
    "## Initialization\n",
    "\n",
    "As always, initialize your environment now by loading all modules required and setting up the plotting environment. We will also be using random numbers, so initialize `rng` as we have done in the past."
   ]
  },
  {
   "cell_type": "code",
   "execution_count": null,
   "metadata": {
    "deletable": false,
    "nbgrader": {
     "cell_type": "code",
     "checksum": "bc978df247c1205b52688e10bac5318b",
     "grade": true,
     "grade_id": "cell-ba47ec95174ca054",
     "locked": false,
     "points": 0,
     "schema_version": 3,
     "solution": true
    }
   },
   "outputs": [],
   "source": [
    "# YOUR CODE HERE\n",
    "raise NotImplementedError()"
   ]
  },
  {
   "cell_type": "markdown",
   "metadata": {},
   "source": [
    "## Static Mass-Spring Configuration\n",
    "\n",
    "In the next two labs we will write code that will allow us to determine the static configuration for a mass-spring system of the type shown below.  To do so we will iteratively use the Newton-Raphson method to solve a system of non-linear equations.  Before we can do that, we first need to set up the problem. The set up is the main purpose of this lab!\n",
    "\n",
    "![Static spring configuration](https://github.com/cwru-phys-250/p250-spring-2023/raw/main/figures/static_springs.png)\n",
    "\n",
    "The figure above shows a conventional way to represent a system of two masses and three springs. The choices of angles, labels for the springs, *etc.* may not be the easiest for a numerical implementation, but it is familiar to us from an introductory physics course. Thus, our numerical solution must take inputs consistent with this figure and must also produce outputs consistent with it.\n",
    "\n",
    "In our code we can choose to define things differently and map between the choices made in the figure and choices that we find more convenient. This is always an issue when solving a problem, particularly numerically. Though there may be a more convenient way to represent the information in our code, changing from the convention shown in the figure comes at a cost. Ultimately we want our code to be understandable. We want other people to be able to read it and we also want to be able to modify it ourselves, particularly if we come back months or years later. We do not want to have to work hard to understand some different convention chosen at the moment when we were writing the code but now does not make sense to us! Regardless of what choices we make, they must be clearly documented.\n",
    "\n",
    "### Problem Specification\n",
    "\n",
    "To solve this system we first need to know exactly what problem we want to solve.  Vaguely it is to determine the static configuration. It is worth thinking about what that means for yourself. For the lab we will clearly specify the system along with what input will be given and what output is to be produced. You will be \"guided\" on how to think about and set up this problem. That does not mean this will be the best approach.  This will be revisited at the end of the next lab.\n",
    "\n",
    "When solving a problem we should try to be as general as possible. Rarely are we really interesting in the exact problem given, instead we are interested in a class of problems and would like to be able to solve any in that class. In this case we could imagine many generalizations to the system shown in the figure. We could allow for many changes.\n",
    "1. Arbitrary number of masses.\n",
    "2. Arbitrary number of connecting springs to each mass.\n",
    "3. Arbitrary number of support points.\n",
    "4. Three dimensional configuration.\n",
    "\n",
    "We should include generalizations in our code if they do not make the solution significantly more complicated. For this lab you do not need to include such generalizations, but you should think about them.\n",
    "\n",
    "Our problem will be: given two masses, $m_1$ and $m_2$, connected by three springs with spring constants $k_1$, $k_2$, and $k_3$ and natural lengths $\\ell_{0,1}$, $\\ell_{0,2}$, and $\\ell_{0,3}$ at two support points separated by a distance $d$, determine the lengths $\\ell_1$, $\\ell_2$, and $\\ell_3$ of the springs, along with the angles $\\theta_1$, $\\theta_2$, and $\\theta_3$, in the static configuration.\n",
    "\n",
    "Actually, before proceeding we can do more than that. As is almost always the case we need to worry about units. Yet units should not matter. In fact, in the problem given does it matter if the distance between the support points is 1 cm, 1 meter, 1 mile, *etc.*? No! In general it is always best to work in terms of dimensionless quantities, that is, quantities that are relative to each other. In this case we really do not care what $d$ is, all we really care about is how all the lengths in this system compare to $d$. This means we can think of measuring all lengths in units of $d$, or equivalently that we will specify the natural lengths as the ratio $\\ell_{0,i}/d$ and find the ratio of lengths $\\ell_i/d$ as our solution. Effectively this means that we can \"just set\" $d=1$ and when we say, for example, that $\\ell_{0,1}=1.5$ we mean that $\\ell_{0,1}=1.5 d$. Similarly it is convenient to specify the masses in terms of some mass unit, it really does not matter what it is. Let us call this mass $M$. We will thus always specify things as a ratio of masses. To make this more clear let us define $\\mu_j \\equiv m_j/M$. Finally, instead of specifying the spring constants in some units we can normalize them with this mass scale too by defining $\\kappa_i \\equiv \\frac{k_i d}{M g}$, where $g$ is the gravitational constant.\n",
    "\n",
    "The new statement of our problem is as follows. Given two normalize masses, $\\mu_j$, and three springs with normalized spring constants, $\\kappa_i$, and natural lengths, $\\ell_{0,i}$ in units of $d$, determine in the static configuration the lengths of the springs, $\\ell_i$ in units of $d$ along with the angles $\\theta_i$."
   ]
  },
  {
   "cell_type": "markdown",
   "metadata": {},
   "source": [
    "### System of Equations\n",
    "\n",
    "We need to find six quantities, $\\ell_i$ and $\\theta_i$, so we need six equations to solve. Ultimately we will be able to write these equations in the form\n",
    "$$ \\vec f(\\vec y) = 0 $$\n",
    "and our goal will be to find the $\\vec y$ that solves this system of nonlinear equations.\n",
    "\n",
    "To begin we need the system of equations. You will derive them and document them here.\n",
    "\n",
    "What does it mean to \"document\"? You should give enough information that either you, or a classmate, could easily follow the steps and reproduce your results. This means you should not just give the final equations without any discussion/description, nor should you provide step-by-step algebraic manipulations. Instead you should determine what are the key ideas, what are the key steps, what intermediate steps are worth seeings, and finally, what is the final result."
   ]
  },
  {
   "cell_type": "markdown",
   "metadata": {},
   "source": [
    "Derive a system of nonlinear equations of the form \"left-hand side equals zero\" for the mass-spring system. Express your equations in terms of the quantities $\\ell_i$ and $\\theta_i$ given the inputs $\\ell_{0,i}$, $\\kappa_i$, and $\\mu_j$. Clearly describe your solution and document your equations giving their final form as a system of six equations, all written using `Markdown` and LaTeX. As good, young physicists your first thought will be to draw free-body diagrams. Follow the usual procedure you would from introductory physics and describe it below."
   ]
  },
  {
   "cell_type": "markdown",
   "metadata": {
    "deletable": false,
    "nbgrader": {
     "cell_type": "markdown",
     "checksum": "5df18d945706ec1ce4d9be267cfd16cb",
     "grade": true,
     "grade_id": "cell-75e9117d24ff0642",
     "locked": false,
     "points": 10,
     "schema_version": 3,
     "solution": true
    }
   },
   "source": [
    "YOUR ANSWER HERE"
   ]
  },
  {
   "cell_type": "markdown",
   "metadata": {},
   "source": [
    "### Implementation of the System of Equations\n",
    "\n",
    "The next step is to implement these equations. In general we have choices to make in terms of how we order our variables. Here the order will be specified for you. **The order you must use** is\n",
    "```\n",
    "y = (l1, l2, l3, theta1, theta2, theta3)\n",
    "```\n",
    "\n",
    "You will now write a function that calculates your system of equations and returns it as a numpy array. What order should you write the equations in? It does not matter, however, you should make it easy to understand. You chose an order to write them in your documentation above, use the same order here! It will be far less confusing to the reader if you preserve this ordering. In other words, be consistent between your documentation and code!\n",
    "\n",
    "We will want our function to be \"vectorized\". This means we want our function to work even if `y` is given as a two dimensional array of shape $(6,N)$ for arbitrary $N$. In other words, there will be six rows and an arbitrary number of columns. If you write your function in the \"natural\" way with appropriate uses of things like `np.zeros_like`, it will \"just work\". We will discuss more details of this next week."
   ]
  },
  {
   "cell_type": "markdown",
   "metadata": {},
   "source": [
    "Write a function to return the values of the left-side of your system of equations as a numpy array. Your function must be of the form\n",
    "```\n",
    "def static_conditions(y, l0, kappa, mu):\n",
    "```\n",
    "where `y` is ordered as discussed above, `l0` is an array containing the natural lengths of the spring (in units of $d$), `kappa` are the normalized spring constants, and `mu` are the normalized masses. **Clearly document your code.** (Of course you will not use any loops, since none are needed.)"
   ]
  },
  {
   "cell_type": "code",
   "execution_count": null,
   "metadata": {
    "deletable": false,
    "nbgrader": {
     "cell_type": "code",
     "checksum": "b75e514fe38397851b335fc8a6a80384",
     "grade": true,
     "grade_id": "cell-e56bc62f00d549f7",
     "locked": false,
     "points": 10,
     "schema_version": 3,
     "solution": true
    }
   },
   "outputs": [],
   "source": [
    "def static_conditions(y, l0, kappa, mu):\n",
    "# YOUR CODE HERE\n",
    "raise NotImplementedError()"
   ]
  },
  {
   "cell_type": "markdown",
   "metadata": {},
   "source": [
    "### Testing\n",
    "\n",
    "Now that we have written a function we are not done, it needs to work! As we have seen, \"work\" means many things. Of course it must be valid code: given the inputs it produces output. It also must be correct code: given certain inputs it produces known, correct outputs.\n",
    "\n",
    "Running the function to see if it produces output is easy, this is how you can debug your code. Knowing that it produces correct output is more difficult.\n",
    "\n",
    "Writing a complete test suite is hard work. Simple test cases do not cover all possibilities. While it is best to have as many and as complicated a set of tests as possible, we will be content with just a few, simple tests here.\n",
    "\n",
    "The test cases should be *physical*. They should be physical systems for which we know the answer. They should not be based on the system of equations with some of the parameters set. In other words, we should not plug some numbers into the system of equations and solve for the others. We want to *test* the validity of the system of equations, not just verify that the computer can do arithmetic."
   ]
  },
  {
   "cell_type": "markdown",
   "metadata": {},
   "source": [
    "Here you will describe two physical test cases that can be used to verify that your system of equations and its implementation is correct. These will be clearly documented using `Markdown` and LaTeX, describing the inputs and the expected outputs for these cases.\n",
    "(*Hint:* What static configurations do we know? In other words, for what conditions will $\\vec f(\\vec y)=0$?)"
   ]
  },
  {
   "cell_type": "markdown",
   "metadata": {},
   "source": [
    "### Test 1\n",
    "\n",
    "#### Description\n",
    "\n",
    "Clearly describe your first test case."
   ]
  },
  {
   "cell_type": "markdown",
   "metadata": {
    "deletable": false,
    "nbgrader": {
     "cell_type": "markdown",
     "checksum": "6b7b02926f6ffd8a5cab81247c71be33",
     "grade": true,
     "grade_id": "cell-d941046f078d9e73",
     "locked": false,
     "points": 3,
     "schema_version": 3,
     "solution": true
    }
   },
   "source": [
    "YOUR ANSWER HERE"
   ]
  },
  {
   "cell_type": "markdown",
   "metadata": {},
   "source": [
    "#### Implementation\n",
    "\n",
    "Implement your test case using `assert()` as discussed in the PreLab."
   ]
  },
  {
   "cell_type": "code",
   "execution_count": null,
   "metadata": {
    "deletable": false,
    "nbgrader": {
     "cell_type": "code",
     "checksum": "7f58342318cf16a23892c52193ea2acc",
     "grade": true,
     "grade_id": "cell-8f75565462c56270",
     "locked": false,
     "points": 3,
     "schema_version": 3,
     "solution": true
    }
   },
   "outputs": [],
   "source": [
    "# YOUR CODE HERE\n",
    "raise NotImplementedError()"
   ]
  },
  {
   "cell_type": "markdown",
   "metadata": {},
   "source": [
    "### Test 2\n",
    "\n",
    "#### Description\n",
    "\n",
    "Clearly describe your second test case."
   ]
  },
  {
   "cell_type": "markdown",
   "metadata": {
    "deletable": false,
    "nbgrader": {
     "cell_type": "markdown",
     "checksum": "db0101a0bf5e460d74eed1b8111fe0f4",
     "grade": true,
     "grade_id": "cell-3829e3a0c52231f6",
     "locked": false,
     "points": 3,
     "schema_version": 3,
     "solution": true
    }
   },
   "source": [
    "YOUR ANSWER HERE"
   ]
  },
  {
   "cell_type": "markdown",
   "metadata": {},
   "source": [
    "#### Implementation\n",
    "\n",
    "Implement your test case using `assert()` as discussed in the PreLab."
   ]
  },
  {
   "cell_type": "code",
   "execution_count": null,
   "metadata": {
    "deletable": false,
    "nbgrader": {
     "cell_type": "code",
     "checksum": "4c6eaf838d29306f4b7c884ded3ff7c9",
     "grade": true,
     "grade_id": "cell-2af3420af0a011c8",
     "locked": false,
     "points": 3,
     "schema_version": 3,
     "solution": true
    }
   },
   "outputs": [],
   "source": [
    "# YOUR CODE HERE\n",
    "raise NotImplementedError()"
   ]
  },
  {
   "cell_type": "markdown",
   "metadata": {},
   "source": [
    "#### Two Dimensional Test\n",
    "\n",
    "We next want to verify that our function runs for a two dimensional input for `y` but with the usual one dimensional inputs for all the other quantities. Here we are just going to verify that it runs, not that the output is correct. Since the input is arbitrary, your output will not be an array of zeros, that is fine. However, we are going to input a $(6,4)$ array for `y` and **must** get a $(6,4)$ array as output. If this is not the case, then you have not written your `static_conditions` function in a vectorized form."
   ]
  },
  {
   "cell_type": "markdown",
   "metadata": {},
   "source": [
    "Test that your version of `static_condition` returns something for a two dimensional array, `y`, of shape $(6, N)$. You can use arbitrary inputs for the other variables (most easily just one of your test cases from above). For `y` just use arbitrary values, for example,\n",
    "```\n",
    "y = rng.random(size=(6, 4))\n",
    "```\n",
    "The return value of `static_conditions` will not be zero, but that is fine. We just want to see that it returns something with the same shape as `y`. Again, we will spend more time talking about this next week and will learn why we need this!\n",
    "\n",
    "(*Note:* You can use `assert` here too if you like. You can compare the shapes of the arrays by comparing `y.shape` to the shape of the output of your `static_conditions` function.)"
   ]
  },
  {
   "cell_type": "code",
   "execution_count": null,
   "metadata": {
    "deletable": false,
    "nbgrader": {
     "cell_type": "code",
     "checksum": "1fb9d1964a802990abd8b3a6d2af15a0",
     "grade": true,
     "grade_id": "cell-fd4ccf6b4be7f8e6",
     "locked": false,
     "points": 2,
     "schema_version": 3,
     "solution": true
    }
   },
   "outputs": [],
   "source": [
    "# YOUR CODE HERE\n",
    "raise NotImplementedError()"
   ]
  },
  {
   "cell_type": "markdown",
   "metadata": {},
   "source": [
    "### Visualization\n",
    "\n",
    "As we have seen, a good way to display results is through a figure. Here there is not a clear figure to draw so instead we will \"draw\" the system. Matplotlib is not designed for drawing diagrams! Even so, we can make a simple plot that will represent the positions of the masses and the springs which can help us catch obvious errors in our results. We will use this more next lab. For now we just want to write the function to make the figure.\n",
    "\n",
    "We will write a function that given the lengths and angles of the springs produces a plot showing the positions of the supports and masses as markers and springs as lines. In this function you should **calculate all the positions**. That is, let the leftmost support be at `(0,0)`. From the input information **calculate the positions of the masses and the position of the final support**. It may seem odd to do this, after all we *know* that the final support must be at `(1,0)`, so why calculate this? By calculating it this does a couple of things. Firstly, it allows us to display cases that do not satisfy our system of non-linear equations. Secondly, it serves as a simple consistency check when our inputs do satisfy the system of non-linear equations. Remember, part of the point of doing this is to test our results!"
   ]
  },
  {
   "cell_type": "markdown",
   "metadata": {},
   "source": [
    "Write a function to produce a visualization of mass-spring system as described above. You function must be of the form\n",
    "```\n",
    "def visualize_system(lengths, angles):\n",
    "```\n",
    "where `lengths` is an array containing the lengths of the springs in units of the separation, $d$, and `angles` is an array containing the angles of the springs in radians. The orders in these arrays is the same as is labeled in the figure at the beginning of the lab. Also draw a horizontal line at the level of the supports (the ceiling).\n",
    "\n",
    "We are creating a simple visualization so this does not need to be a detailed figure, we can construct it using simple means."
   ]
  },
  {
   "cell_type": "code",
   "execution_count": null,
   "metadata": {
    "deletable": false,
    "nbgrader": {
     "cell_type": "code",
     "checksum": "01f8c308c76dc3e2b9df522fbbf673cc",
     "grade": true,
     "grade_id": "cell-3d55b9b35fc81b5c",
     "locked": false,
     "points": 4,
     "schema_version": 3,
     "solution": true
    }
   },
   "outputs": [],
   "source": [
    "def visualize_system(lengths, angles):\n",
    "# YOUR CODE HERE\n",
    "raise NotImplementedError()"
   ]
  },
  {
   "cell_type": "markdown",
   "metadata": {},
   "source": [
    "Run your visualization function for one of your test cases. The resulting figure must be what you expect!"
   ]
  },
  {
   "cell_type": "code",
   "execution_count": null,
   "metadata": {
    "deletable": false,
    "nbgrader": {
     "cell_type": "code",
     "checksum": "91fc590742e89bca3369804c2327b98e",
     "grade": true,
     "grade_id": "cell-88590ec55accd4a9",
     "locked": false,
     "points": 2,
     "schema_version": 3,
     "solution": true
    }
   },
   "outputs": [],
   "source": [
    "# YOUR CODE HERE\n",
    "raise NotImplementedError()"
   ]
  },
  {
   "cell_type": "markdown",
   "metadata": {},
   "source": [
    "## Member Participation\n",
    "\n",
    "See Lab00 for instructions on turning in labs. We will follow this procedure the entire semester.\n",
    "\n",
    "In the following cell enter the *Case ID* for each student in the group who participated in this lab. Again, see Lab00 for more details. It is expected that you have read and understood those details."
   ]
  },
  {
   "cell_type": "markdown",
   "metadata": {},
   "source": []
  }
 ],
 "metadata": {
  "anaconda-cloud": {},
  "authors": [
   {
    "name": "Craig J Copi",
    "semester": "Spring 2019"
   }
  ],
  "kernelspec": {
   "display_name": "Python 3 (ipykernel)",
   "language": "python",
   "name": "python3"
  },
  "language_info": {
   "codemirror_mode": {
    "name": "ipython",
    "version": 3
   },
   "file_extension": ".py",
   "mimetype": "text/x-python",
   "name": "python",
   "nbconvert_exporter": "python",
   "pygments_lexer": "ipython3",
   "version": "3.10.9"
  }
 },
 "nbformat": 4,
 "nbformat_minor": 4
}
