{
 "cells": [
  {
   "cell_type": "markdown",
   "metadata": {},
   "source": [
    "# Lab 09 : Schrödinger Equation\n",
    "\n",
    "## Objectives\n",
    "\n",
    "In this lab we will solve the Schrödinger equation as an eigenvalue problem.\n",
    "\n",
    "Much of the preparation for this lab was discussed in the prelab. **You must understand and complete PreLab 09 to proceed!** In fact, once you have completed the prelab we can just apply those results to arbitrary potentials."
   ]
  },
  {
   "cell_type": "markdown",
   "metadata": {},
   "source": [
    "## Initialization\n",
    "\n",
    "As always, initialize your environment now by loading all modules required and setting up the plotting environment."
   ]
  },
  {
   "cell_type": "code",
   "execution_count": null,
   "metadata": {
    "deletable": false,
    "nbgrader": {
     "cell_type": "code",
     "checksum": "9abe518ee05064983c5bbee8e1eb5473",
     "grade": true,
     "grade_id": "cell-3c4900d90de73315",
     "locked": false,
     "points": 0,
     "schema_version": 3,
     "solution": true
    }
   },
   "outputs": [],
   "source": [
    "# YOUR CODE HERE\n",
    "raise NotImplementedError()"
   ]
  },
  {
   "cell_type": "markdown",
   "metadata": {},
   "source": [
    "## Time Independent Schrödinger Equation\n",
    "\n",
    "The prelab contains a more thorough discussion of how we will set up and solve the time independent Schrödinger equation. Here we summarize the important points.\n",
    "\n",
    "The time independent Schrödinger equation written in operator form, $\\hat H\\psi(x) = E\\psi(x)$, can be converted to matrix form, $\\mathsf{H}\\vec\\psi = E\\vec\\psi$, in the nonrelativistic case if we discretize the second derivative. As we found in the prelab, the matrix $\\mathsf{H}$ is a symmetric, tridiagonal matrix and this eigenvalue problem can be solved using `scipy.linalg.eig_banded`. We also saw in the prelab how to renormalize the eigenvectors to be consistent with the normalization condition from quantum mechanics. We will use the work from the prelab as our starting point. **Make sure you understand the setup from the prelab prior to working on the lab.**"
   ]
  },
  {
   "cell_type": "markdown",
   "metadata": {},
   "source": [
    "Copy the `Hamiltonian` function from the prelab."
   ]
  },
  {
   "cell_type": "code",
   "execution_count": null,
   "metadata": {
    "deletable": false,
    "nbgrader": {
     "cell_type": "code",
     "checksum": "5903d4793b1494a06684583ef6bd6960",
     "grade": true,
     "grade_id": "cell-8bcd7be6836634d1",
     "locked": false,
     "points": 2,
     "schema_version": 3,
     "solution": true
    }
   },
   "outputs": [],
   "source": [
    "def Hamiltonian(N, L, V):\n",
    "# YOUR CODE HERE\n",
    "raise NotImplementedError()"
   ]
  },
  {
   "cell_type": "markdown",
   "metadata": {},
   "source": [
    "## Infinite Square Well\n",
    "\n",
    "As always, we begin by solving a problem with a known solution. One of the first problems we solve in quantum mechanics is a single particle in an infinite square well. Here $V(x)=0$ for $0<x<L$ and is infinite outside this region. Where the potential is infinite the wave function must be zero. This means $\\psi(x)=0$ for $x\\le 0$ and $x\\ge L$ and we only need to solve for $\\psi(x)$ on the finite interval $0<x<L$. In other words, this problem is described quite well by the matrix form we derived in the prelab.\n",
    "\n",
    "To proceed we will let $L=1$ and discretize the region using 1001 equally spaced points ($N=1000$ equal length segments). We can almost use the `Hamiltonian` function you copied from the prelab, but with a small detail. The boundary conditions we have for the infinite square well are that $\\psi(0) = \\psi(L) = 0$. In the discrete version this means $\\psi_0 = \\psi_N = 0$ where $N$ is the number of segments. In our function from the prelab we required $\\psi_{-1}=\\psi_{N+1}=0$ so we need to make a small change. One approach would be to go back to Lab 08 and follow the procedure we used for evolving the temperature in the rod when its ends were held at fixed temperatures. However, there is an easier way to proceed: solve for the wave function at $\\{ x_1, x_2, \\ldots, x_{N-1} \\}$. In other words, do not solve for $\\psi_0=\\psi(x_0)$ or $\\psi_N=\\psi(x_N)$ since we already know they must be zero and *by construction they will be zero*! Stop and think about this, it is a simple idea but can be confusing. Effectively this just reduces the size of the matrix $\\mathsf{H}$ and changes the points at which the eigenvectors will been evaluated."
   ]
  },
  {
   "cell_type": "markdown",
   "metadata": {},
   "source": [
    "Construct the matrix $\\mathsf{H}$ for the infinite square well using the parameters from above. As stated above, the Hamiltonian we construct is not quite right. But we can get the one we want *without changing the `Hamiltonian` function*. We just want to not use the first and last columns of the matrix it returns. This sounds like a job for array slicing!\n",
    "\n",
    "Another issue is that we need to provide a function, the potential, to `Hamiltonian`.  What function should we use and how should we specify it?\n",
    "\n",
    "Solve the eigenvalue problem using `scipy.linalg.eig_banded`. Save the eigenvalues and the eigenvectors. Renormalize the eigenvectors to produce the wave function, $\\vec\\psi$, using the normalization from quantum mechanics. Provide the code for doing all of this below."
   ]
  },
  {
   "cell_type": "code",
   "execution_count": null,
   "metadata": {
    "deletable": false,
    "nbgrader": {
     "cell_type": "code",
     "checksum": "2cc543aa4f81b248f182d841d58e0090",
     "grade": true,
     "grade_id": "cell-7e2d705331b5ebaf",
     "locked": false,
     "points": 5,
     "schema_version": 3,
     "solution": true
    }
   },
   "outputs": [],
   "source": [
    "# YOUR CODE HERE\n",
    "raise NotImplementedError()"
   ]
  },
  {
   "cell_type": "markdown",
   "metadata": {},
   "source": [
    "### Testing the Eigenvalues\n",
    "\n",
    "The eigenvalues are the allowed energies of the particle. For the infinite square well using the units we have chosen these can be written as\n",
    "$$ E_n = \\frac{n^2 \\pi^2}{2 L^2}, $$\n",
    "where $n$ is an integer with $n\\ge 1$.\n",
    "\n",
    "Notice that $n\\ge 1$, but we index arrays in Python starting from zero!"
   ]
  },
  {
   "cell_type": "markdown",
   "metadata": {},
   "source": [
    "Calculate the fractional error in the first three eigenvalues. Print these values below. You should find the calculated eigenvalues have fractional errors less than $10^{-5}$. (*Note:* If you errors are larger than this then something is wrong! A possible error comes from not correctly implementing the boundary conditions as discussed above; effectively solving the eigenvalue problem at too many points.)"
   ]
  },
  {
   "cell_type": "code",
   "execution_count": null,
   "metadata": {
    "deletable": false,
    "nbgrader": {
     "cell_type": "code",
     "checksum": "340bde3b452fb608f1ba3a07e1da371a",
     "grade": true,
     "grade_id": "cell-c62b22e4a2cac2cf",
     "locked": false,
     "points": 3,
     "schema_version": 3,
     "solution": true
    }
   },
   "outputs": [],
   "source": [
    "# YOUR CODE HERE\n",
    "raise NotImplementedError()"
   ]
  },
  {
   "cell_type": "markdown",
   "metadata": {},
   "source": [
    "### Testing the Eigenvectors\n",
    "\n",
    "For the infinite square well we also know the eigenvectors. The eigenvectors are given by\n",
    "\n",
    "$$ \\psi_n(x) = \\sqrt{\\frac{2}{L}} \\sin\\left( \\frac{n\\pi x}{L} \\right). $$"
   ]
  },
  {
   "cell_type": "markdown",
   "metadata": {},
   "source": [
    "Produce a nice figure including the first three eigenvectors you have calculated along with the known solutions. In doing so keep the following in mind.\n",
    "1. Mathematically both $\\vec\\psi$ and $-\\vec\\psi$ are solutions to the eigenvalue problem. The form of the analytic solution given above is the \"positive\" eigenvector; it is an increasing function from $x=0$, not a decreasing function. The algorithm for calculating the eigenvectors can return vectors with either sign so some of them may need to be modified. This can be done in a simple, general manner, how? (*Hint:* The `sign` function can make this easy meaning that we do not even need to know which choice the algorithm has made for any of the eigenvectors.)\n",
    "2. There are a lot of quantities being plotted in this single figure. How do we make the figure easy to read?\n",
    "3. The calculated eigenvectors should be in very good agreement with the analytic ones."
   ]
  },
  {
   "cell_type": "code",
   "execution_count": null,
   "metadata": {
    "deletable": false,
    "nbgrader": {
     "cell_type": "code",
     "checksum": "8215a97b477507fc62f0fd55ba0ef639",
     "grade": true,
     "grade_id": "cell-706e0dc62e0a9d35",
     "locked": false,
     "points": 5,
     "schema_version": 3,
     "solution": true
    }
   },
   "outputs": [],
   "source": [
    "# YOUR CODE HERE\n",
    "raise NotImplementedError()"
   ]
  },
  {
   "cell_type": "markdown",
   "metadata": {},
   "source": [
    "## General Potential\n",
    "\n",
    "Now that we know how to solve the Schrödinger equation as an eigenvalue problem we can apply it to any potential. As another example we will consider a particle in the potential\n",
    "$$ V(x) = \\left\\{\n",
    "\\begin{array}{ll}\n",
    "\\infty, & x \\le 0 \\\\\n",
    "0, & 0 < x \\le a_0 \\\\\n",
    "V_0 \\left[ 1 - \\left(\\frac{\\beta-x}{\\beta-a_0}\\right)^2 \\right], & a_0 < x \\le a_1 \\\\\n",
    "V_1 + \\gamma (x-a_1), & a_1 < x \\le a_2 \\\\\n",
    "V_2, & x > a_2\n",
    "\\end{array}\n",
    "\\right. .$$\n",
    "It would be tedious to analytically solve the Schrödinger equation with this potential so we will instead solve it numerically.\n",
    "\n",
    "For our problem we will choose $\\beta=9 a_0/8$, $V_0=150$, $V_1=30$, $V_2=80$, $a_0=1$, $a_2=1.75$. We can show that $a_1=\\beta+(\\beta-a_0)\\sqrt{1-V_1/V_0}$ and that $\\gamma = (V_2-V_1)/(a_2-a_1)$. For your convenience this potential is implemented below. Note that it is written so that it works for `x` given either as a single number or an array (with arbitrary dimensions). We achieve this by using array slicing with indices from the `where` function, instead of using a bunch of `if` statements. (This also could be done using boolean arrays.)"
   ]
  },
  {
   "cell_type": "code",
   "execution_count": null,
   "metadata": {},
   "outputs": [],
   "source": [
    "def potential(x):\n",
    "    \"\"\"\n",
    "    Potential as defined above.\n",
    "    x may be a single number or an array.\n",
    "    The potential is always returned as an array,\n",
    "    even when x is a single number.\n",
    "    \"\"\"\n",
    "    # We need x to be an array of at least 1 dimension\n",
    "    x = np.atleast_1d(x)\n",
    "    V = np.zeros_like(x)\n",
    "    # Constants for our particular problem\n",
    "    V0 = 150.\n",
    "    V1 = 30.\n",
    "    V2 = 80.\n",
    "    a0 = 1.\n",
    "    a2 = 1.75\n",
    "    beta = 9 * a0 / 8.\n",
    "    delta = 1. / (beta - a0)**2\n",
    "    a1 = beta + (beta-a0) * np.sqrt(1. - V1/V0)\n",
    "    gamma = (V2 - V1) / (a2 - a1)\n",
    "    # For x <= a0 the potential is zero. This was initialized when constructing V.\n",
    "    # For a0 < x <= a1 the potential is a quadratic.\n",
    "    ind = np.where((x>a0) & (x<=a1))\n",
    "    V[ind] = V0 * (1 - delta * (beta-x[ind])**2)\n",
    "    # For a1 < x <= a2 the potential is a line.\n",
    "    ind = np.where((x>a1) & (x<=a2))\n",
    "    V[ind] = V1 + gamma * (x[ind]-a1)\n",
    "    # For x > a2 the potential is the constant V2.\n",
    "    ind = np.where(x>a2)\n",
    "    V[ind] = V2\n",
    "    return V"
   ]
  },
  {
   "cell_type": "markdown",
   "metadata": {},
   "source": [
    "Make a \"somewhat nice\" plot of the potential to see what it looks like. Produce a plot for $0<x\\le 3 a_0$. Your figure should include horizontal lines for the potential values $V_0$, $V_1$, and $V_2$. It should also include vertical lines for $a_0$, $a_1$, and $a_2$. Though not required, you can label all these lines in your plot using `ax.text` to place text in appropriate locations. Since this is a \"somewhat nice\" plot which is mainly being created so you can see the shape of the potential and to use to understand the solutions you need not be as careful in its construction as are required for the main plots in the lab."
   ]
  },
  {
   "cell_type": "code",
   "execution_count": null,
   "metadata": {
    "deletable": false,
    "nbgrader": {
     "cell_type": "code",
     "checksum": "56559c4dd9dc791e2d21b2f17fedc2f0",
     "grade": true,
     "grade_id": "cell-0aeb6e61115ec26d",
     "locked": false,
     "points": 5,
     "schema_version": 3,
     "solution": true
    }
   },
   "outputs": [],
   "source": [
    "# YOUR CODE HERE\n",
    "raise NotImplementedError()"
   ]
  },
  {
   "cell_type": "markdown",
   "metadata": {},
   "source": [
    "Now that we see what the potential looks like we can solve the Schrödinger equation. We can mostly proceed as in the infinite square well case. Since the potential is infinite for $x\\le 0$ we again have the boundary condition $\\psi(0)=0$. Unfortunately we do not have a physical cutoff at large $x$ so we will impose one by hand. Choose $\\psi(x)=0$ for $x\\ge 5 a_0$. We will again use 1000 segments (1001 points) in the numerical solution.\n",
    "\n",
    "Before performing any calculation you should think about the expected behavior of the solution. If you are familiar with quantum mechanics you can *and should* determine what you expect the wave functions to look like when the energy of the particle is in each of the four regimes: $0<E<V_1$, $V_1<E<V_2$, $V_2<E<V_0$, and $E>V_0$. We will not study all of these cases in detail but we will have solutions in each region and these solutions should meet our expectations. It is always best to \"know\" the answer before you do a calculation, this is how we develop intuition and determine when our solutions do not make sense."
   ]
  },
  {
   "cell_type": "markdown",
   "metadata": {},
   "source": [
    "Construct the matrix $\\mathsf{H}$ for this potential using the parameters from above.  Solve the eigenvalue problem using `scipy.linalg.eig_banded`. Save the eigenvalues and the eigenvectors. Renormalize the eigenvectors to produce the wave function, $\\vec\\psi$, using the normalization from quantum mechanics. Provide the code for doing all of this below."
   ]
  },
  {
   "cell_type": "code",
   "execution_count": null,
   "metadata": {
    "deletable": false,
    "nbgrader": {
     "cell_type": "code",
     "checksum": "d3c7b8c7b6e4bcb0af22dee041b32bcc",
     "grade": true,
     "grade_id": "cell-18b8f4229f40a0d7",
     "locked": false,
     "points": 4,
     "schema_version": 3,
     "solution": true
    }
   },
   "outputs": [],
   "source": [
    "# YOUR CODE HERE\n",
    "raise NotImplementedError()"
   ]
  },
  {
   "cell_type": "markdown",
   "metadata": {},
   "source": [
    "### Bound states:\n",
    "\n",
    "Classically a particle will be bound in this potential if it has $E<V_2$ or if $E<V_0$ and $x<\\beta$. This means that classically we can have a particle bound in either of the two \"wells\" that should appear in your plot of the potential above. Quantum mechanically this is not the case. **Quantum mechanically the only states that will be bound are those with $E<V_2$.**"
   ]
  },
  {
   "cell_type": "markdown",
   "metadata": {},
   "source": [
    "Print the number of quantum mechanically bound states for this potential. This should be a relatively small number, we are going to look at all of them in more detail. (No, you do not need to, nor should you, count them by hand! Let the code do it for you.)"
   ]
  },
  {
   "cell_type": "code",
   "execution_count": null,
   "metadata": {
    "deletable": false,
    "nbgrader": {
     "cell_type": "code",
     "checksum": "1d5da62f2e27ef98a7cd9d02f94b2750",
     "grade": true,
     "grade_id": "cell-5a9b12720fdc921c",
     "locked": false,
     "points": 2,
     "schema_version": 3,
     "solution": true
    }
   },
   "outputs": [],
   "source": [
    "# YOUR CODE HERE\n",
    "raise NotImplementedError()"
   ]
  },
  {
   "cell_type": "markdown",
   "metadata": {},
   "source": [
    "Produce a nice figure of the energy eigenvalues for this potential. In this figure include horizontal lines at $V_0$, $V_1$, and $V_2$. These are the classically \"interesting\" values of the energy. It does not make sense to look at all the energies, the very large ones will not be accurate anyway. Restrict the range of your plot to one that makes sense for what we are trying to study. Include the figure below. (*Note:* It does not really make sense to talk about the energy of the eigenstates that are not bound since we have not calculated them correctly. You should notice a change in behavior of the energy eigenvalues at $V_2$. This is a detail we will ignore and leave to your study of quantum mechanics.)"
   ]
  },
  {
   "cell_type": "code",
   "execution_count": null,
   "metadata": {
    "deletable": false,
    "nbgrader": {
     "cell_type": "code",
     "checksum": "fa27215bd755d8d992beed00c9be432f",
     "grade": true,
     "grade_id": "cell-97e6c7af310e6056",
     "locked": false,
     "points": 5,
     "schema_version": 3,
     "solution": true
    }
   },
   "outputs": [],
   "source": [
    "# YOUR CODE HERE\n",
    "raise NotImplementedError()"
   ]
  },
  {
   "cell_type": "markdown",
   "metadata": {},
   "source": [
    "### Probability Densities\n",
    "\n",
    "Next we will look at the wave functions. The magnitude of the wave function squared $|\\psi(x)|^2$ is a probability density. We can use it to determine the probability of finding the particle in a given region. Here we will produce two figures of the probability density. In these figures include vertical lines at $a_0$, $a_1$, and $a_2$. To not make these figures too busy you do not need to label these vertical lines."
   ]
  },
  {
   "cell_type": "markdown",
   "metadata": {},
   "source": [
    "Produce the following two (or three) figures and include them below. All figures can be created in a single cell!\n",
    "\n",
    "1. Plot the probability density for all the states with $E_n<V_1$.\n",
    "2. Plot the probability density for all the states with $V_1<E_n<V_2$.\n",
    "3. **[Not required.]** It is also worthwhile to look at the probability density for states with $E_n>V_2$. Our solution is not actually correct for these states. Unbound states, called scattering states, have a continuous energy spectrum instead of the discrete one we have found. Furthermore, we have forced $\\psi(x)=0$ for all $x\\ge 5 a_0$ so we are not actually solving for scattering states. Regardless, if we look at the probability density for slightly large values of $n$, for example $n=15$, we get a good idea of what scattering states look like. (For those familiar with quantum mechanics, these probability densities should look somewhat familiar. They look like the results from your study of the scattering from finite potential wells for a plane wave sent in from the right.)"
   ]
  },
  {
   "cell_type": "code",
   "execution_count": null,
   "metadata": {
    "deletable": false,
    "nbgrader": {
     "cell_type": "code",
     "checksum": "afaaf371f43c4f3459f7fe962b27eabf",
     "grade": true,
     "grade_id": "cell-dd5f11196881bbc6",
     "locked": false,
     "points": 5,
     "schema_version": 3,
     "solution": true
    }
   },
   "outputs": [],
   "source": [
    "# YOUR CODE HERE\n",
    "raise NotImplementedError()"
   ]
  },
  {
   "cell_type": "markdown",
   "metadata": {},
   "source": [
    "### Probabilities\n",
    "\n",
    "As you should see in your figures of the probability density, the particle has some probability of being in the classically forbidden regions (regions where the total energy of the particle is negative). The probability of being found in a region is calculated by integrating the probability density over this region. In other words, the probability of the particle being found in the region $a_0\\le x\\le a_1$ is given by\n",
    "$$ P(a_0\\le x\\le a_1) = \\int_{a_0}^{a_1} |\\psi|^2 \\mathrm{d}x. $$\n",
    "Since we have tabulated our wave function, numerically this integral can be evaluated as a direct sum, using a composite method like the trapezoidal rule, or via a spline."
   ]
  },
  {
   "cell_type": "markdown",
   "metadata": {},
   "source": [
    "Calculate and print the probability for finding the particle in each of the four different regions of the potential for the $n=5$ state, $\\psi_5$. Recall that $n$ labels the state, not the index in the array of eigenvectors you calculated! Physically the particle **must be in one of the regions** so the sum of all the probabilities you calculated must equal one. Verify this is true for the probabilities you calculate. You should find, perhaps surprisingly, that the particle has a probability of being in the classically forbidden region, $x>a_2$. (As a suggestion, a spline is probably the easiest way to perform the integrals.)"
   ]
  },
  {
   "cell_type": "code",
   "execution_count": null,
   "metadata": {
    "deletable": false,
    "nbgrader": {
     "cell_type": "code",
     "checksum": "a6a651c14ba6f0501a8685a6bd0887d7",
     "grade": true,
     "grade_id": "cell-a524f231f428d05f",
     "locked": false,
     "points": 4,
     "schema_version": 3,
     "solution": true
    }
   },
   "outputs": [],
   "source": [
    "# YOUR CODE HERE\n",
    "raise NotImplementedError()"
   ]
  },
  {
   "cell_type": "markdown",
   "metadata": {},
   "source": [
    "## Member Participation\n",
    "\n",
    "See Lab00 for instructions on turning in labs. We will follow this procedure the entire semester.\n",
    "\n",
    "In the following cell enter the *Case ID* for each student in the group who participated in this lab. Again, see Lab00 for more details. It is expected that you have read and understood those details."
   ]
  },
  {
   "cell_type": "markdown",
   "metadata": {},
   "source": []
  }
 ],
 "metadata": {
  "anaconda-cloud": {},
  "authors": [
   {
    "name": "Craig J Copi",
    "semester": "Spring 2022"
   }
  ],
  "kernelspec": {
   "display_name": "Python 3 (ipykernel)",
   "language": "python",
   "name": "python3"
  },
  "language_info": {
   "codemirror_mode": {
    "name": "ipython",
    "version": 3
   },
   "file_extension": ".py",
   "mimetype": "text/x-python",
   "name": "python",
   "nbconvert_exporter": "python",
   "pygments_lexer": "ipython3",
   "version": "3.10.9"
  }
 },
 "nbformat": 4,
 "nbformat_minor": 4
}
