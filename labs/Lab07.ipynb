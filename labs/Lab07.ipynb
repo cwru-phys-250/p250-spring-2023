{
 "cells": [
  {
   "cell_type": "markdown",
   "metadata": {},
   "source": [
    "# Lab 07 : Problem Solving (part 2)\n",
    "\n",
    "## Objectives\n",
    "\n",
    "This is the second part of a two part lab. **The solutions to this and the previous lab will be posted at the same time**.\n",
    "\n",
    "Ideally, the main lesson from this lab will be that despite all the care and testing we put into the previous lab, there will still be a subtle error in that work!\n",
    "\n",
    "We will put together things from our previous lab and the prelab. We will create a generic implementation of the Newton-Raphson method, use it to solve our system of equations, discover there is a problem, and fix it!"
   ]
  },
  {
   "cell_type": "markdown",
   "metadata": {},
   "source": [
    "## Initialization\n",
    "\n",
    "As always, initialize your environment now by loading all modules required and setting up the plotting environment."
   ]
  },
  {
   "cell_type": "code",
   "execution_count": null,
   "metadata": {
    "deletable": false,
    "nbgrader": {
     "cell_type": "code",
     "checksum": "f7d7d67f5444865930ef2feeaad16e30",
     "grade": true,
     "grade_id": "cell-0d27b9d85e7d7dde",
     "locked": false,
     "points": 0,
     "schema_version": 3,
     "solution": true
    }
   },
   "outputs": [],
   "source": [
    "# YOUR CODE HERE\n",
    "raise NotImplementedError()"
   ]
  },
  {
   "cell_type": "markdown",
   "metadata": {},
   "source": [
    "## Static Mass-Spring Configuration\n",
    "\n",
    "In the previous lab we began studying the mass-spring system shown below.\n",
    "\n",
    "![Static mass-spring system.](https://github.com/cwru-phys-250/p250-spring-2023/raw/main/figures/static_springs.png)\n",
    "\n",
    "We wish to find the static configuration for this system. As stated in the previous lab, we are going to do this by finding the lengths, $\\ell_i$, and angles, $\\theta_i$, for the springs given the normalized spring constants, $\\kappa_i$ and the normalized masses $\\mu_j$.\n",
    "\n",
    "In the previous lab you wrote a function that implemented the static conditions which much be satisfied as a system of non-linear equations of the form $\\vec f(\\vec y) = 0$."
   ]
  },
  {
   "cell_type": "markdown",
   "metadata": {},
   "source": [
    "Copy your function from the previous lab but now call it `static_conditions_lab6`. This may not be the final form ...."
   ]
  },
  {
   "cell_type": "code",
   "execution_count": null,
   "metadata": {
    "deletable": false,
    "nbgrader": {
     "cell_type": "code",
     "checksum": "52882662bf59de2707d70a58ccd55f56",
     "grade": true,
     "grade_id": "cell-10645597b67f2eea",
     "locked": false,
     "points": 2,
     "schema_version": 3,
     "solution": true
    }
   },
   "outputs": [],
   "source": [
    "# YOUR CODE HERE\n",
    "raise NotImplementedError()"
   ]
  },
  {
   "cell_type": "markdown",
   "metadata": {},
   "source": [
    "## Newton-Raphson Method\n",
    "\n",
    "As discussed in class and shown in the example this week, we can use the Newton-Raphson method to solve a system of non-linear equations. We saw that the Newton-Raphson method is an iterative algorithm. Let $\\vec y_n$ be a guess for the desired solution.  An improved guess is given by\n",
    "$$ \\vec y_{n+1} = \\vec y_n + \\Delta\\vec y = \\vec y_n - \\mathsf{J}_{\\vec f}^{-1}(\\vec y) \\vec f(\\vec y), $$\n",
    "where $\\mathsf{J}_{\\vec f}(\\vec y)$ is the Jacobian matrix. From an initial guess, $\\vec y_0$, we iteratively improve our estimate and stop when convergence has been obtained, that is, when the correction becomes sufficiently small."
   ]
  },
  {
   "cell_type": "markdown",
   "metadata": {},
   "source": [
    "### Jacobian Matrix\n",
    "\n",
    "As we have seen, the Jacobian matrix is the matrix of first derivatives of the function. Written more explicitly\n",
    "$$\n",
    "\\mathsf{J}_{\\vec f} (\\vec y) = \\begin{pmatrix}\n",
    "\\frac{\\partial f_1}{\\partial y_1} & \\frac{\\partial f_1}{\\partial y_2} & \\cdots \\\\\n",
    "\\frac{\\partial f_2}{\\partial y_1} & \\frac{\\partial f_2}{\\partial y_2} & \\cdots \\\\\n",
    "\\vdots & \\vdots & \\ddots\n",
    "\\end{pmatrix} .\n",
    "$$\n",
    "\n",
    "This matrix can be calculated analytically or numerically. Just as in the prelab, we will do so numerically using center differencing. Thus, just knowing $\\vec f(\\vec y)$ and step sizes $\\vec h$ (potentially different step sizes for each coordinate) we can construct the Jacobian matrix. Here you can use your work from the prelab with a small generalization."
   ]
  },
  {
   "cell_type": "markdown",
   "metadata": {},
   "source": [
    "Write a function for calculating the Jacobian matrix at a point $\\vec y$ using center differencing with step sizes $\\vec h$ for a system of equations described by a function $\\vec f(\\vec y)$. The idea is the same as in the prelab, but here we now allow for this function to take extra arguments. Though we could require the use of `lambda` function, we will not, we will instead use `args`. As always, document your function!"
   ]
  },
  {
   "cell_type": "code",
   "execution_count": null,
   "metadata": {
    "deletable": false,
    "nbgrader": {
     "cell_type": "code",
     "checksum": "4b9478e31a66231d5149c61cc8949c2c",
     "grade": true,
     "grade_id": "cell-7e6da4edf256798c",
     "locked": false,
     "points": 3,
     "schema_version": 3,
     "solution": true
    }
   },
   "outputs": [],
   "source": [
    "def Jacobian(f, y, h, args=()):\n",
    "# YOUR CODE HERE\n",
    "raise NotImplementedError()"
   ]
  },
  {
   "cell_type": "markdown",
   "metadata": {},
   "source": [
    "### Newton-Raphson Implementation\n",
    "\n",
    "We can now finally implement the Newton-Raphson method where we will calculate the Jacobian numerically. As we have done for the Jacobian itself, this can be written in a generic way. Since the Newton-Raphson method works for any set of functions and associated Jacobian matrix, we can write an implementation that is independent of the particular problem we are solving. Here we can pass in all the relevant functions. In writing such a generic implementation, we allow for the specification of the desired convergence tolerances (absolute in `atol` and relative in `rtol`). Finally, as noted in the example from this week, whenever we have an algorithm that depends on a convergence criterion to end we must specify a maximum number of iterations to allow. Without this it is possible (and even likely) that we will encounter a case that never converges and thus the algorithm will never complete!"
   ]
  },
  {
   "cell_type": "markdown",
   "metadata": {},
   "source": [
    "Implement the Newton-Raphson iteration scheme in a function of the form given below.\n",
    "\n",
    "Here `f` is Python function that evaluates the set of functions for which we are finding roots and will be called as `f(y, *args)`, `Jacobian` computes the Jacobian matrix for the set of functions using center differencing with steps sizes given in `h` and will be called as defined above, `y0` is our initial guess at the roots, `itermax` is the maximum number of iterations allowed, and `atol` and `rtol` are the desired absolute and relative tolerances.\n",
    "\n",
    "Your function should return the best estimate of the roots (in a NumPy array) and the number of iterations required, both of these in a tuple."
   ]
  },
  {
   "cell_type": "code",
   "execution_count": null,
   "metadata": {
    "deletable": false,
    "nbgrader": {
     "cell_type": "code",
     "checksum": "01a9c771eef1bc35b33c92ea2bfb7956",
     "grade": true,
     "grade_id": "cell-2920a00ee217a6b5",
     "locked": false,
     "points": 5,
     "schema_version": 3,
     "solution": true
    }
   },
   "outputs": [],
   "source": [
    "def newton_raphson_iterate(f, Jacobian, y0, h, itermax, args=(), atol=1e-10, rtol=1e-10):\n",
    "# YOUR CODE HERE\n",
    "raise NotImplementedError()"
   ]
  },
  {
   "cell_type": "markdown",
   "metadata": {},
   "source": [
    "### Visualization\n",
    "\n",
    "One test we will do to verify if our results make sense is to visualize the system. You worked on this in the previous lab, we will now actually use it.\n",
    "\n",
    "Copy your visualization code from the previous lab."
   ]
  },
  {
   "cell_type": "code",
   "execution_count": null,
   "metadata": {
    "deletable": false,
    "nbgrader": {
     "cell_type": "code",
     "checksum": "c8bbe9034e9a41d4977fa8b3a2b5385e",
     "grade": true,
     "grade_id": "cell-37a786abca635e3c",
     "locked": false,
     "points": 2,
     "schema_version": 3,
     "solution": true
    }
   },
   "outputs": [],
   "source": [
    "# YOUR CODE HERE\n",
    "raise NotImplementedError()"
   ]
  },
  {
   "cell_type": "markdown",
   "metadata": {},
   "source": [
    "### Example System\n",
    "\n",
    "There are many things we can do to test our code. A reasonable approach would be to take the tests you defined in the previous lab, start from initial guesses **not exactly** correct, and see that the correct solutions are recovered. I will leave it to you to do any such tests.\n",
    "\n",
    "The example system we will consider is the following mostly arbitrary one.\n",
    "\n",
    "For the springs let the natural lengths in units of $d$ be given by $\\ell_{0,1}=0.7$, $\\ell_{0,2}=0.45$, and $\\ell_{0,3}=0.2$, and the normalized spring constants be $\\kappa_1=1.1$, $\\kappa_2=2$, and $\\kappa_3=0.6$. Let the normalized masses be $\\mu_1=3$ and $\\mu_2=1.4$.  Choose as initial guesses $\\ell_1=0.9$, $\\ell_2=0.55$, $\\ell_3=0.4$, $\\theta_1=\\pi/4$, $\\theta_2=\\pi/5$, and $\\theta_3=\\pi/8$. Finally, use step sizes of $1\\times10^{-5}$ for all the lengths and $2\\times10^{-5}$ for all the angles when calculating the Jacobian matrix.\n",
    "(*Note:* The signs for all of these angle are positive and positive means the directions shown in the figure at the top of the lab.)"
   ]
  },
  {
   "cell_type": "markdown",
   "metadata": {},
   "source": [
    "Implement the above choices and use your code to solve for the static configuration. Print the final results for the length and the angles (clearly organized) along with the number of iterations required to converge to a solution. Also produce a visualization of the static configuration."
   ]
  },
  {
   "cell_type": "code",
   "execution_count": null,
   "metadata": {
    "deletable": false,
    "nbgrader": {
     "cell_type": "code",
     "checksum": "8d095b0a4386f79258b6aa05a378b0d1",
     "grade": true,
     "grade_id": "cell-07578d07ac017568",
     "locked": false,
     "points": 2,
     "schema_version": 3,
     "solution": true
    }
   },
   "outputs": [],
   "source": [
    "# YOUR CODE HERE\n",
    "raise NotImplementedError()"
   ]
  },
  {
   "cell_type": "markdown",
   "metadata": {},
   "source": [
    "Comment on your results.  Do they seem reasonable?  Does anything seem strange or worrisome?"
   ]
  },
  {
   "cell_type": "markdown",
   "metadata": {
    "deletable": false,
    "nbgrader": {
     "cell_type": "markdown",
     "checksum": "402a7f34de8b440c288f6497749fbf5b",
     "grade": true,
     "grade_id": "cell-e592fe309c2d0cff",
     "locked": false,
     "points": 2,
     "schema_version": 3,
     "solution": true
    }
   },
   "source": [
    "YOUR ANSWER HERE"
   ]
  },
  {
   "cell_type": "markdown",
   "metadata": {},
   "source": [
    "### Further Tests\n",
    "\n",
    "At this point we should have a code that runs and produces reasonable looking results.  But are they *correct*? This is always difficult to know. The best we can do is test our results in every way we can think of. We would not want to publish results only to later discover they are \"obviously\" wrong!\n",
    "\n",
    "Another way to test our results is to use a different method to calculate them. In our case there are many algorithms implemented in `scipy.optimize` that will also solve a system of equations. In particular, we can use `scipy.optimize.root`. This is a generic function that implements a number of different algorithms. It is called similar to how we have written `newton_raphson_iterate` so we should be able to just use the function we have written for evaluating our system of equations, along with the initial guess, and see what solution it finds. We should try multiple methods and see if we get consistent results."
   ]
  },
  {
   "cell_type": "markdown",
   "metadata": {},
   "source": [
    "Use `scipy.optimize.root` with your function `static_conditions_lab6` and the system defined above to solve for the static system. (You should not use your Jacobian function, these methods will calculate the Jacobian themselves using their own algorithms.) You will need to look at the documentation for this function and play around a bit to determine how to use it and how to extract the results. Check at least two different methods. The expectation is that you will find **a different result** from yours from at least one of the methods, and you may even find different results from multiple different methods. By different results we mean that the systems are physically different as seen in your visualizations. Print the different result (or results if you prefer) and visualize it along with your solution. Since this is a \"quick test\" you do not need to print them in elegant form if you do not want to. (*Note:* For my implementation using at least the `hybr` and `broyden1` methods I get different results. What results you get, and which methods give different results, will depend on your implementation.)"
   ]
  },
  {
   "cell_type": "code",
   "execution_count": null,
   "metadata": {
    "deletable": false,
    "nbgrader": {
     "cell_type": "code",
     "checksum": "1c4a812ccc12ae3ff7fbc9ffe51a5b07",
     "grade": true,
     "grade_id": "cell-57c227ebf8461e96",
     "locked": false,
     "points": 4,
     "schema_version": 3,
     "solution": true
    }
   },
   "outputs": [],
   "source": [
    "# YOUR CODE HERE\n",
    "raise NotImplementedError()"
   ]
  },
  {
   "cell_type": "markdown",
   "metadata": {},
   "source": [
    "Assuming that we have (at least) two different solutions we have to ask the question, does that make sense? Here is the most difficult thing when solving numerical problems (or more generally when moving from solving homework problems to solving research problems). We can easily verify that these are solutions to our equations (plug them back in and see that they do give $\\vec f(\\vec y)=0$). But, physically, can there be more than one solution? Remember, we are not solving a mathematics problem here, we are trying to model nature. If we set up a real mass-spring system could we put it in more than one static configuration?\n",
    "\n",
    "Our thought process might be something like:\n",
    "- No!  There must only be one static configuration.\n",
    "- Well, if the system were symmetric then maybe, ..., but our system is not symmetric so that does not matter.\n",
    "- Hmm, I could imagine that if I moved mass 2 to the left of mass 1 then I could find a static configuration. Of course it might not be stable to small perturbations, but that is ok. But we see that our two solutions above do not follow this pattern. (Also, our iterative algorithm would not be able to find an unstable solution numerically.)\n",
    "- Maybe there could be two configurations, one where some of the springs are compressed and other are stretched, and which ones are stretched and compressed can be changed around to balance the forces in different ways ... but again, that is not what these solutions do.\n",
    "- Of course this is a non-linear problem and non-linear problems are notorious for having multiple solutions (local extrema). However, this is also a physical problem and the question ultimately reduces to whether or not a physical system can have multiple stable configurations of the type we have found.\n",
    "\n",
    "After going over this again and again we ultimately need to decide if we believe both of these solutions. It is good to do this yourself. When developing the lab I went through this process!\n",
    "\n",
    "In the end, both of these solutions cannot be correct, there must be something wrong. Since these are valid solutions to our equations we must have implemented the Newton-Raphson method correctly. This must mean there is something **physically wrong** with the equations we derived."
   ]
  },
  {
   "cell_type": "markdown",
   "metadata": {},
   "source": [
    "### Choice of Variables\n",
    "\n",
    "When we started this problem last lab, it probably seemed reasonable to use lengths and angles as variables. This choice does impose some implicit assumptions. If we were solving the problem analytically, we would implicitly always choose lengths to be positive and angles to be between $0$ and $2\\pi$. Numerically, no such restrictions are imposed. In fact, it is quite likely that our solutions do not satisfy these constraints. Of course there is nothing special about these constraints. It can be perfectly valid to have a negative \"length\" as long as the angle compensates for this.\n",
    "\n",
    "To make it easier to understand our results it makes sense to convert them to a \"standard form\". Here standard form means that all angles are between $0$ and $2\\pi$ (actually for $\\theta_3$ it would make sense to allow it to be between $-\\pi$ and $\\pi$, we will not treat it as a special case in what we do here), and all lengths are positive. To achieve this we can use the modulo operator, `%`, which works for floating point numbers as well as integers. Further, using array slicing (with boolean arrays or the `where` function), we can map any negative length to a positive length if we also change the angle by $\\pi$. In other words, for any negative $\\ell_i$ we can map it as $\\ell_i \\rightarrow -\\ell_i$ if we also map the angle $\\theta_i \\rightarrow \\theta_i-\\pi$."
   ]
  },
  {
   "cell_type": "markdown",
   "metadata": {},
   "source": [
    "Write a function with the form given below that returns the remapped lengths and angles as described above. **Do not change the input arrays.** Make sure you always make a copy of the array in your function before making any changes. If you do not make copies, then you will be changing your original arrays!"
   ]
  },
  {
   "cell_type": "code",
   "execution_count": null,
   "metadata": {
    "deletable": false,
    "nbgrader": {
     "cell_type": "code",
     "checksum": "5b522465b37f320ad8a8c937e145e03d",
     "grade": true,
     "grade_id": "cell-6036636fb782d2e7",
     "locked": false,
     "points": 2,
     "schema_version": 3,
     "solution": true
    }
   },
   "outputs": [],
   "source": [
    "def to_standard_form(lengths, angles):\n",
    "# YOUR CODE HERE\n",
    "raise NotImplementedError()"
   ]
  },
  {
   "cell_type": "markdown",
   "metadata": {},
   "source": [
    "Convert your solution to standard form. Again print the results and visualize the system. **The visualization cannot have changed.** If it did then your conversion is incorrect. Finally, evaluate your function containing the system of equations and see if the standard form is a solution. If things have gone as intended it will *not be a solution*!"
   ]
  },
  {
   "cell_type": "code",
   "execution_count": null,
   "metadata": {
    "deletable": false,
    "nbgrader": {
     "cell_type": "code",
     "checksum": "cfdef4458d082dafbeac0505aaa9c570",
     "grade": true,
     "grade_id": "cell-a7c5f8590b93f56a",
     "locked": false,
     "points": 2,
     "schema_version": 3,
     "solution": true
    }
   },
   "outputs": [],
   "source": [
    "# YOUR CODE HERE\n",
    "raise NotImplementedError()"
   ]
  },
  {
   "cell_type": "markdown",
   "metadata": {},
   "source": [
    "Under the assumption that you found multiple solutions using `scipy.optimize.root`, repeat the previous part for another solution you found. Is this a valid solution?"
   ]
  },
  {
   "cell_type": "code",
   "execution_count": null,
   "metadata": {
    "deletable": false,
    "nbgrader": {
     "cell_type": "code",
     "checksum": "684211d85e2efe6669967ee020c5d704",
     "grade": true,
     "grade_id": "cell-ae37f3f98019b409",
     "locked": false,
     "points": 2,
     "schema_version": 3,
     "solution": true
    }
   },
   "outputs": [],
   "source": [
    "# YOUR CODE HERE\n",
    "raise NotImplementedError()"
   ]
  },
  {
   "cell_type": "markdown",
   "metadata": {},
   "source": [
    "### Fixing the Problem\n",
    "\n",
    "At this point we should see that there is a problem. We have two \"solutions\" but only one of them actually is a solution. How did this happen? There must be something wrong with how we wrote down our system of equations!"
   ]
  },
  {
   "cell_type": "markdown",
   "metadata": {},
   "source": [
    "Describe the error made in deriving the equations and how to correct it. As some guidance, you should find that the problems occur when the length is negative. Where does this affect our derivation? Why does a negative length cause a problem? You should think about this and discuss it as a group. If you are stuck after struggling together you should then discuss your ideas with the instructors. It is good to struggle for some time with this (this is how we learn) but ultimately we do want to resolve the issue and be able to correct it."
   ]
  },
  {
   "cell_type": "markdown",
   "metadata": {
    "deletable": false,
    "nbgrader": {
     "cell_type": "markdown",
     "checksum": "3bab780501eb4bb54ddd114bc3f905f8",
     "grade": true,
     "grade_id": "cell-45ed01d9b5dbce58",
     "locked": false,
     "points": 5,
     "schema_version": 3,
     "solution": true
    }
   },
   "source": [
    "YOUR ANSWER HERE"
   ]
  },
  {
   "cell_type": "markdown",
   "metadata": {},
   "source": [
    "Implement your fix in a new function, now again called `static_conditions`."
   ]
  },
  {
   "cell_type": "code",
   "execution_count": null,
   "metadata": {
    "deletable": false,
    "nbgrader": {
     "cell_type": "code",
     "checksum": "465ab8df7451f97c6f71a1a956af16f5",
     "grade": true,
     "grade_id": "cell-205f6f6303c5e49e",
     "locked": false,
     "points": 5,
     "schema_version": 3,
     "solution": true
    }
   },
   "outputs": [],
   "source": [
    "def static_conditions(y, l0, kappa, mu):\n",
    "# YOUR CODE HERE\n",
    "raise NotImplementedError()"
   ]
  },
  {
   "cell_type": "markdown",
   "metadata": {},
   "source": [
    "Using your new function, solve the original system. Print this solution and the number of iterations required, convert and print the standard form, and produce a visualization of the system. You should, of course, have a valid solution!"
   ]
  },
  {
   "cell_type": "code",
   "execution_count": null,
   "metadata": {
    "deletable": false,
    "nbgrader": {
     "cell_type": "code",
     "checksum": "28a968d815566af2f38530d9b80165ac",
     "grade": true,
     "grade_id": "cell-164d76be42e6b742",
     "locked": false,
     "points": 4,
     "schema_version": 3,
     "solution": true
    }
   },
   "outputs": [],
   "source": [
    "# YOUR CODE HERE\n",
    "raise NotImplementedError()"
   ]
  },
  {
   "cell_type": "markdown",
   "metadata": {},
   "source": [
    "## Alternative Approach\n",
    "\n",
    "Phew, we have solved the problem and completed the lab. However, we may wonder if there is a better approach that would have avoided the subtleties from the beginning. The answer is yes. Here is a suggested alternative approach. You do not need to implement this yourself, but it should not be too hard to do so. In particular, you should just need to define a new function, `static_conditions_alt`, and can then reuse your `Jacobian` and `newton_raphson_iterate` functions.\n",
    "\n",
    "A better approach is to just do everything in terms of vectors. When we first start using vectors in introductory physics we often complain and think they are needlessly complicated. The approach we have used in this lab seems far more natural to us.  Hopefully, as we learn more we recognize that vectors, in fact, make things significantly easier and are a much better way to approach problems. Further, they allow us to very easily generalize the problem as discussed in the previous lab. One way to represent this system is shown below.\n",
    "\n",
    "![Static mass-spring system with vectors.](https://github.com/cwru-phys-250/p250-spring-2023/raw/main/figures/static_springs_vectors.png)\n",
    "\n",
    "Here we allow for an arbitrary origin to our coordinate system and specify the locations of the supports as the vectors $\\vec R_j$ (we could easily have more than two) and the locations of massess as $\\vec r_j$ (again, we could easily have more than two). Our objective is to find these $\\vec r_j$ given $\\vec R_j$, and the same parameters for the springs, $\\kappa_i$, and the masses, $\\mu_j$. The red arrows in the figure represent the length vectors for the springs, $\\vec\\ell_i$.\n",
    "\n",
    "Notice that now we are only solving for the positions of the masses. This means solving for four quantities, not six! We thus only need four equations, all of which come from Newton's second law. This raises some questions.\n",
    "- What happened to the extra quantities/extra conditions that were required in our original fomulation?\n",
    "- Where are the angles in this new formulation?\n",
    "- Why is this system non-linear?  The spring force is linear in the displacement after all.\n",
    "- How do we naturally avoid the issue we encountered in our solution developed over the past two labs?\n",
    "\n",
    "In answering these questions we see the power (and beauty) of using vectors!"
   ]
  },
  {
   "cell_type": "markdown",
   "metadata": {},
   "source": [
    "## Member Participation\n",
    "\n",
    "See Lab00 for instructions on turning in labs. We will follow this procedure the entire semester.\n",
    "\n",
    "In the following cell enter the *Case ID* for each student in the group who participated in this lab. Again, see Lab00 for more details. It is expected that you have read and understood those details."
   ]
  },
  {
   "cell_type": "markdown",
   "metadata": {},
   "source": []
  }
 ],
 "metadata": {
  "anaconda-cloud": {},
  "authors": [
   {
    "name": "Craig J Copi",
    "semester": "Spring 2019"
   }
  ],
  "kernelspec": {
   "display_name": "Python 3 (ipykernel)",
   "language": "python",
   "name": "python3"
  },
  "language_info": {
   "codemirror_mode": {
    "name": "ipython",
    "version": 3
   },
   "file_extension": ".py",
   "mimetype": "text/x-python",
   "name": "python",
   "nbconvert_exporter": "python",
   "pygments_lexer": "ipython3",
   "version": "3.10.9"
  }
 },
 "nbformat": 4,
 "nbformat_minor": 4
}
